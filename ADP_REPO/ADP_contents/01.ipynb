{
 "cells": [
  {
   "cell_type": "code",
   "execution_count": null,
   "id": "bce734b5",
   "metadata": {},
   "outputs": [],
   "source": [
    "import statsmodels.api as sm\n",
    "from statsmodels.formula.api import ols"
   ]
  },
  {
   "cell_type": "code",
   "execution_count": null,
   "id": "4e195009",
   "metadata": {},
   "outputs": [],
   "source": [
    "model = ols('Y ~ C(X1)*C(X2)')\n",
    "model_fitted = model.fit()"
   ]
  },
  {
   "cell_type": "code",
   "execution_count": null,
   "id": "ce1e9208",
   "metadata": {},
   "outputs": [],
   "source": [
    "linear_regression_table = model_fitted.summary()\n",
    "linear_regression_table"
   ]
  },
  {
   "cell_type": "code",
   "execution_count": null,
   "id": "fdb188d8",
   "metadata": {},
   "outputs": [],
   "source": [
    "anova_table = sm.stats.anova_lm(model_fitted,)"
   ]
  }
 ],
 "metadata": {
  "language_info": {
   "name": "python"
  }
 },
 "nbformat": 4,
 "nbformat_minor": 5
}
