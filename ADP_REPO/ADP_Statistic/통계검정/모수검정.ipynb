{
 "cells": [
  {
   "cell_type": "code",
   "execution_count": null,
   "id": "317c8f98",
   "metadata": {},
   "outputs": [],
   "source": [
    "'''\n",
    "모수 검정\n",
    "\n",
    "1. 평균 검정\n",
    "        1.1.1 일표본 평균 검정 : 모분산을 아는 경우 (Z-test)\n",
    "        1.1.2 일표본 평균 검정 : 모분산을 모르는 경우 (One-sample t-test)\n",
    "\n",
    "    1.2 이표본 평균 검정\n",
    "        1.2.1 이표본 독립표본 평균 검정 (Independent t-test)\n",
    "            - 정규성 만족 등분산 만족: 일반 t-test\n",
    "            - 정규성 만족 등분산 위배: Welch's t-test\n",
    "            - 정규성 위배 등분산 위배: → 비모수 윌콕슨 순위합 검정(Mann-Whitney U)\n",
    "        1.2.2 이표본 대응표본 평균 검정 (Paired t-test)\n",
    "            - 차이값 정규성 위배: → 비모수 윌콕슨 부호순위 검정\n",
    "\n",
    "2. 비율 검정\n",
    "    2.1 일표본 비율 검정 (One-sample proportion Z-test)\n",
    "        - 정규근사 필요 (np ≥ 5, n(1-p) ≥ 5)\n",
    "    \n",
    "    2.2 이표본 비율 검정 (Two-sample proportion Z-test)\n",
    "        - 정규근사 만족 시 Z-test\n",
    "        - 정규근사 불만족 시 → 피셔의 정확검정 (Fisher's Exact Test)\n",
    "\n",
    "3. 분산 검정\n",
    "\n",
    "    3.1 일표본 분산 검정\n",
    "        3.1.1 모분산에 대한 검정 (Chi-Square Test)\n",
    "            - 정규성 가정 만족 → 카이제곱 검정 (Chi-Square Test)\n",
    "            - 정규성 가정 위배 → 비모수 방법 없음 (주의: 비모수 대체 검정 거의 없음)\n",
    "\n",
    "    3.2 이표본 분산 검정\n",
    "        3.2.1 두 집단 분산 동질성 검정 (F-test)\n",
    "            - 정규성 가정 만족 → F-test\n",
    "            - 정규성 가정 위배 → Levene 검정\n",
    "'''"
   ]
  },
  {
   "cell_type": "code",
   "execution_count": null,
   "id": "a0bf9422",
   "metadata": {},
   "outputs": [],
   "source": [
    "'''\n",
    "1.1.1 일표본 평균 검정 : 모분산을 아는 경우 (Z-test)\n",
    "\n",
    "한 제과점은 자사 머핀의 평균 중량이 `150g`이라고 주장합니다.  \n",
    "이를 검증하기 위해, 무작위로 `40개의 머핀을 뽑아` 무게를 측정해보니  \n",
    "`평균은 148.5g`, `모표준편차는 5g`이었다고 합니다.\n",
    "\n",
    "이 제과점의 주장이 맞는지, `유의수준 5%에서`  \n",
    "`머핀의 평균 무게가 150g과 다른지를 검정`하세요.\n",
    "'''"
   ]
  },
  {
   "cell_type": "code",
   "execution_count": null,
   "id": "70cb8e2a",
   "metadata": {},
   "outputs": [],
   "source": [
    "import numpy as np\n",
    "from scipy import stats\n",
    "\n",
    "pop_mean = 150\n",
    "pop_std = 5\n",
    "\n",
    "sample_n = 40\n",
    "sample_mean = 148.5\n",
    "\n",
    "alpha = 0.05"
   ]
  },
  {
   "cell_type": "code",
   "execution_count": null,
   "id": "77e29876",
   "metadata": {},
   "outputs": [],
   "source": [
    "H0 = '평균 중량이 150g이다.'\n",
    "H1 = '평균 중량이 150g이 아니다.'"
   ]
  },
  {
   "cell_type": "code",
   "execution_count": null,
   "id": "8074de3a",
   "metadata": {},
   "outputs": [],
   "source": [
    "# 검정\n",
    "pop_var = pop_std ** 2\n",
    "\n",
    "z_statistic = abs((sample_mean - pop_mean) / np.sqrt(pop_var / sample_n))\n",
    "p_value = 2 * (1 - stats.norm.cdf(z_statistic))\n",
    "print(f'p_value : {p_value:.2f}')\n",
    "\n",
    "if p_value < alpha:\n",
    "    print(H1)\n",
    "\n",
    "else:\n",
    "    print(H0)"
   ]
  },
  {
   "cell_type": "code",
   "execution_count": null,
   "id": "88bb2aa3",
   "metadata": {},
   "outputs": [],
   "source": [
    "# 신뢰구간\n",
    "pop_var = pop_std**2\n",
    "\n",
    "standard_error = np.sqrt(pop_var / sample_n)\n",
    "\n",
    "confidence_coefficient = stats.norm.ppf(1 - 0.05 / 2)\n",
    "\n",
    "margin_of_error = confidence_coefficient * standard_error\n",
    "\n",
    "lower_limit = sample_mean - margin_of_error\n",
    "upper_limit = sample_mean + margin_of_error\n",
    "\n",
    "print(f'신뢰구간 : {lower_limit:.2f} ~ {upper_limit:.2f}')"
   ]
  },
  {
   "cell_type": "code",
   "execution_count": null,
   "id": "f2d539d3",
   "metadata": {},
   "outputs": [],
   "source": [
    "'''\n",
    "1.1.2 일표본 평균 검정 : 모분산을 모르는 경우 (One-sample t-test)\n",
    "\n",
    "한 카페에서 판매되는 커피의 평균 카페인 함량이  \n",
    "`100mg` 이상이어야 한다고 주장하고 있습니다.\n",
    "\n",
    "이를 검증하기 위해 무작위로 `25잔의 커피를 조사`한 결과,  \n",
    "`평균 카페인 함량은 96.8mg`, 표본 표준편차는 `8.5mg`이었습니다.\n",
    "\n",
    "이 카페의 주장이 타당한지,  \n",
    "`유의수준 5%에서`  \n",
    "`평균 카페인 함량이 100mg보다 작은지를 검정`하세요.\n",
    "'''"
   ]
  },
  {
   "cell_type": "code",
   "execution_count": null,
   "id": "e1da93e1",
   "metadata": {},
   "outputs": [],
   "source": [
    "import numpy as np\n",
    "from scipy import stats\n",
    "\n",
    "pop_mean = 100\n",
    "\n",
    "sample_n = 25\n",
    "sample_mean = 96.8\n",
    "sample_std = 8.5\n",
    "\n",
    "alpha = 0.05"
   ]
  },
  {
   "cell_type": "code",
   "execution_count": null,
   "id": "578833a0",
   "metadata": {},
   "outputs": [],
   "source": [
    "data, mu = [], 0\n",
    "stats.ttest_1samp(data, popmean=mu)"
   ]
  },
  {
   "cell_type": "code",
   "execution_count": null,
   "id": "f3a68bfb",
   "metadata": {},
   "outputs": [],
   "source": [
    "H0 = '카페인 함량이 100보다 작지 않다.'\n",
    "H1 = '카페인 함량이 100보다 작다.'"
   ]
  },
  {
   "cell_type": "code",
   "execution_count": null,
   "id": "320ec7c5",
   "metadata": {},
   "outputs": [],
   "source": [
    "# 검정\n",
    "sample_var = sample_std ** 2\n",
    "dof = sample_n - 1\n",
    "\n",
    "t_statistic = (sample_mean - pop_mean) / np.sqrt(sample_var / sample_n)\n",
    "p_value = stats.t.cdf(t_statistic, df=dof)\n",
    "\n",
    "print(f'p_value : {p_value:.2f}')\n",
    "if p_value < 0.05:\n",
    "    print(H1)\n",
    "else:\n",
    "    print(H0)"
   ]
  },
  {
   "cell_type": "code",
   "execution_count": null,
   "id": "e2be14d6",
   "metadata": {},
   "outputs": [],
   "source": [
    "# 신뢰구간\n",
    "sample_var = sample_std**2\n",
    "dof = sample_n - 1\n",
    "\n",
    "standard_error = np.sqrt(sample_var / sample_n)\n",
    "\n",
    "confidence_coefficient = stats.t.ppf(1 - 0.05, df=dof)\n",
    "\n",
    "margin_of_error = confidence_coefficient * standard_error\n",
    "\n",
    "lower_limit = float('-inf')\n",
    "upper_limit = sample_mean + margin_of_error\n",
    "\n",
    "print(f'신뢰구간 : {lower_limit:.2f} ~ {upper_limit:.2f}')"
   ]
  },
  {
   "cell_type": "code",
   "execution_count": null,
   "id": "837b9768",
   "metadata": {},
   "outputs": [],
   "source": [
    "'''\n",
    "1.2.1 이표본 독립표본 평균 검정 (Independent t-test)\n",
    "\n",
    "학원 A와 학원 B의 수강생 수학 점수 평균에 차이가 있는지 확인하고자 합니다.\n",
    "\n",
    "- 학원 A:  \n",
    "  - 표본 수 20\n",
    "  - 평균 78.4\n",
    "  - 표준편차 5.6\n",
    "\n",
    "- 학원 B:  \n",
    "  - 표본 수 22\n",
    "  - 평균 75.1\n",
    "  - 표준편차 6.3\n",
    "\n",
    "두 모집단은 정규분포를 따른다고 가정하고,  \n",
    "`모분산이 같다고 간주`할 때,  \n",
    "`유의수준 5%에서 두 평균이 같은지 검정`하세요.\n",
    "'''"
   ]
  },
  {
   "cell_type": "code",
   "execution_count": null,
   "id": "1eb2280e",
   "metadata": {},
   "outputs": [],
   "source": [
    "import numpy as np\n",
    "from scipy import stats\n",
    "\n",
    "n_a = 20\n",
    "mean_a = 78.4\n",
    "std_a = 5.6\n",
    "\n",
    "n_b = 22\n",
    "mean_b = 75.1\n",
    "std_b = 6.3\n",
    "\n",
    "alpha = 0.05"
   ]
  },
  {
   "cell_type": "code",
   "execution_count": null,
   "id": "6013a942",
   "metadata": {},
   "outputs": [],
   "source": [
    "data_a, data_b = [], []\n",
    "stats.ttest_ind(a=data_a, b=data_b, equal_var=True)"
   ]
  },
  {
   "cell_type": "code",
   "execution_count": null,
   "id": "4eca1b9c",
   "metadata": {},
   "outputs": [],
   "source": [
    "H0 = '두 평균이 같다.'\n",
    "H1 = '두 평균이 같지 않다.'"
   ]
  },
  {
   "cell_type": "code",
   "execution_count": null,
   "id": "511a62d8",
   "metadata": {},
   "outputs": [],
   "source": [
    "# 검정\n",
    "statistic, p_value = stats.ttest_ind_from_stats(mean1=mean_a, std1=std_a, nobs1=n_a,\n",
    "                                                mean2=mean_b, std2=std_b, nobs2=n_b,\n",
    "                                                equal_var=True,\n",
    "                                                alternative='two-sided',\n",
    "                                                )\n",
    "\n",
    "# or \n",
    "# statistic, p_value = stats.ttest_ind(a, b, equal_var=False)\n",
    "\n",
    "print(f'p_value : {p_value:.2f}')\n",
    "if p_value < 0.05:\n",
    "    print(H1)\n",
    "else:\n",
    "    print(H0)"
   ]
  },
  {
   "cell_type": "code",
   "execution_count": null,
   "id": "2764d120",
   "metadata": {},
   "outputs": [],
   "source": [
    "# 신뢰구간\n",
    "\n",
    "pooled_var = (((n_a - 1) * std_a**2) + ((n_b - 1) * std_b**2)) / (n_a + n_b - 2)\n",
    "\n",
    "standard_error = np.sqrt(pooled_var * (1 / n_a + 1 / n_b))\n",
    "\n",
    "dof = n_a + n_b - 2\n",
    "t_critical = stats.t.ppf(1 - alpha / 2, df=dof)\n",
    "\n",
    "margin_of_error = t_critical * standard_error\n",
    "\n",
    "mean_diff = mean_a - mean_b\n",
    "\n",
    "ci_lower = mean_diff - margin_of_error\n",
    "ci_upper = mean_diff + margin_of_error\n",
    "\n",
    "print(f'신뢰구간 : {ci_lower:.2f} ~ {ci_upper:.2f}')"
   ]
  },
  {
   "cell_type": "code",
   "execution_count": null,
   "id": "31167c25",
   "metadata": {},
   "outputs": [],
   "source": [
    "'''\n",
    "1.2.2 이표본 대응표본 평균 검정 (Paired t-test)\n",
    "    대응 표본은 무조건 데이터가 있어야함 / 통계량을 검정불가.\n",
    "\n",
    "한 영어 학원에서는 `신규 회화 훈련 프로그램`을 도입한 뒤,  \n",
    "수강생들의 효과를 검증하고자 `훈련 전·후 영어 말하기 점수`를 비교했습니다.\n",
    "\n",
    "- 수강생 10명의 말하기 점수는 아래와 같습니다:\n",
    "\n",
    "| 수강생 | 훈련 전 | 훈련 후 |\n",
    "|--------|--------|--------|\n",
    "| 1 | 65 | 70  \n",
    "| 2 | 60 | 66  \n",
    "| 3 | 72 | 75  \n",
    "| 4 | 68 | 74  \n",
    "| 5 | 75 | 77  \n",
    "| 6 | 66 | 70  \n",
    "| 7 | 70 | 71  \n",
    "| 8 | 63 | 67  \n",
    "| 9 | 69 | 72  \n",
    "|10 | 64 | 66  \n",
    "\n",
    "훈련 후 점수가 훈련 전보다 `의미 있게 증가했는지`,  \n",
    "`유의수준 5%에서 검정`하세요.\n",
    "'''"
   ]
  },
  {
   "cell_type": "code",
   "execution_count": null,
   "id": "7a72d363",
   "metadata": {},
   "outputs": [],
   "source": [
    "import pandas as pd\n",
    "from scipy import stats\n",
    "\n",
    "df = pd.DataFrame([[65, 70], [60, 66], [72, 75], [68, 74], [75, 77],\n",
    "                   [66, 70], [70, 71], [63, 67], [69, 72], [64, 66]],\n",
    "                  columns=['before', 'after'])\n",
    "df"
   ]
  },
  {
   "cell_type": "code",
   "execution_count": null,
   "id": "16e7acb9",
   "metadata": {},
   "outputs": [],
   "source": [
    "# 검정\n",
    "before = df['before']\n",
    "after = df['after']\n",
    "\n",
    "t_statistic, p_value = stats.ttest_rel(before, after, alternative='less')\n",
    "# less      -> after가 더 크다.\n",
    "# greater   -> before가 더 크다.\n",
    "print(f'p_value : {p_value:.2f}')\n",
    "if p_value < 0.05:\n",
    "    print(H1)\n",
    "else:\n",
    "    print(H0)"
   ]
  },
  {
   "cell_type": "code",
   "execution_count": null,
   "id": "dc4f8a5b",
   "metadata": {},
   "outputs": [],
   "source": [
    "# 신뢰구간 (한쪽 CI - 상한만)\n",
    "diff = after - before\n",
    "n = len(diff)\n",
    "mean_diff = diff.mean()\n",
    "std_diff = diff.std(ddof=1)\n",
    "standard_error = std_diff / np.sqrt(n)\n",
    "\n",
    "t_critical = stats.t.ppf(1 - 0.05, df=n-1)  # 한쪽이므로 1 - alpha\n",
    "upper_limit = mean_diff + t_critical * standard_error\n",
    "\n",
    "print(f'신뢰구간 : (-∞, {upper_limit:.2f})')"
   ]
  },
  {
   "cell_type": "code",
   "execution_count": null,
   "id": "adc6d661",
   "metadata": {},
   "outputs": [],
   "source": [
    "'''\n",
    "2.1 일표본 비율 검정 (One-sample proportion Z-test)\n",
    "\n",
    "한 도시의 시민 중에서 `자전거를 이용해 출퇴근하는 비율은 20%`라고 알려져 있습니다.  \n",
    "이 주장을 검증하기 위해 무작위로 `150명을 조사`했더니,  \n",
    "그 중 `24명이 자전거로 출퇴근`한다고 응답했습니다.\n",
    "\n",
    "이 결과를 바탕으로,  \n",
    "`실제 자전거 이용률이 20%보다 낮다고 말할 수 있는지`,  \n",
    "`유의수준 5%에서 검정`하세요.\n",
    "'''"
   ]
  },
  {
   "cell_type": "code",
   "execution_count": null,
   "id": "b5a81b94",
   "metadata": {},
   "outputs": [],
   "source": [
    "import numpy as np\n",
    "from scipy import stats\n",
    "\n",
    "sample_n = 150\n",
    "sample_x = 24\n",
    "sample_p = sample_x / sample_n\n",
    "\n",
    "pop_p = 0.2\n",
    "alpha = 0.05"
   ]
  },
  {
   "cell_type": "code",
   "execution_count": null,
   "id": "c70de44e",
   "metadata": {},
   "outputs": [],
   "source": [
    "H0 = '이용률이 20%보다 낮지 않다.'\n",
    "H1 = '이용률이 20%보다 낮다.'"
   ]
  },
  {
   "cell_type": "code",
   "execution_count": null,
   "id": "18112e0e",
   "metadata": {},
   "outputs": [],
   "source": [
    "# 검정\n",
    "pop_var = pop_p * (1 - pop_p)\n",
    "\n",
    "z_statistic = (sample_p - pop_p) / np.sqrt(pop_var / sample_n)\n",
    "p_value = stats.norm.cdf(z_statistic)\n",
    "\n",
    "print(f'p_value : {p_value:.2f}')\n",
    "if p_value < 0.05:\n",
    "    print(H1)\n",
    "else:\n",
    "    print(H0)"
   ]
  },
  {
   "cell_type": "code",
   "execution_count": null,
   "id": "3e79526e",
   "metadata": {},
   "outputs": [],
   "source": [
    "# 신뢰구간\n",
    "sample_p = sample_x / sample_n\n",
    "sample_var = sample_p * (1 - sample_p)\n",
    "\n",
    "standard_error = np.sqrt(sample_var / sample_n)\n",
    "\n",
    "confidence_coefficient = stats.norm.ppf(1 - alpha)\n",
    "\n",
    "margin_of_error = confidence_coefficient * standard_error\n",
    "\n",
    "lower_limit = float('-inf')\n",
    "upper_limit = sample_p + margin_of_error\n",
    "\n",
    "print(f'신뢰구간 : {lower_limit:.2f} ~ {upper_limit:.2f}')"
   ]
  },
  {
   "cell_type": "code",
   "execution_count": null,
   "id": "7651c7b6",
   "metadata": {},
   "outputs": [],
   "source": [
    "'''\n",
    "2.2 이표본 비율 검정 (Two-sample proportion Z-test)\n",
    "\n",
    "한 전자상거래 플랫폼에서는  \n",
    "신규 디자인 A와 기존 디자인 B 중 어떤 것이 더 선호되는지 확인하고자 했습니다.\n",
    "\n",
    "- 디자인 A: 240명 중 132명이 선호  \n",
    "- 디자인 B: 260명 중 121명이 선호\n",
    "\n",
    "이 데이터를 바탕으로,  \n",
    "`두 디자인의 선호 비율에 차이가 있는지를 유의수준 5%에서 검정`하세요.  \n",
    "(양측 검정)\n",
    "'''"
   ]
  },
  {
   "cell_type": "code",
   "execution_count": null,
   "id": "be8ac684",
   "metadata": {},
   "outputs": [],
   "source": [
    "import numpy as np\n",
    "from scipy import stats\n",
    "\n",
    "n_a = 240\n",
    "x_a = 132\n",
    "p_a = x_a / n_a\n",
    "\n",
    "n_b = 260\n",
    "x_b = 121\n",
    "p_b = x_b / n_b\n",
    "\n",
    "alpha = 0.05"
   ]
  },
  {
   "cell_type": "code",
   "execution_count": null,
   "id": "d4fb275a",
   "metadata": {},
   "outputs": [],
   "source": [
    "H0 = '두 디자인의 선호 비율에 차이가 없다.'\n",
    "H1 = '두 디자인의 선호 비율에 차이가 있다.'"
   ]
  },
  {
   "cell_type": "code",
   "execution_count": null,
   "id": "3fff1b48",
   "metadata": {},
   "outputs": [],
   "source": [
    "# 검정\n",
    "p = (x_a + x_b) / (n_a + n_b)\n",
    "\n",
    "z_statistic = (p_a - p_b) / np.sqrt(p * (1 - p) * (1 / n_a + 1 / n_b))\n",
    "\n",
    "p_value = 2 * (1 - stats.norm.cdf(abs(z_statistic)))\n",
    "\n",
    "print(f'statistic : {z_statistic:.2f}')\n",
    "print(f'p_value : {p_value:.2f}')\n",
    "if p_value < 0.05:\n",
    "    print(H1)\n",
    "else:\n",
    "    print(H0)"
   ]
  },
  {
   "cell_type": "code",
   "execution_count": null,
   "id": "c6c5d8df",
   "metadata": {},
   "outputs": [],
   "source": [
    "# 신뢰구간\n",
    "diff = p_a - p_b\n",
    "se_diff = np.sqrt(\n",
    "    (p_a * (1 - p_a) / n_a) + (p_b * (1 - p_b) / n_b)\n",
    "    )\n",
    "z_critical = stats.norm.ppf(1 - alpha/2)\n",
    "margin_of_error = z_critical * se_diff\n",
    "\n",
    "ci_lower = diff - margin_of_error\n",
    "ci_upper = diff + margin_of_error\n",
    "print(f'신뢰구간: {ci_lower:.3f} ~ {ci_upper:.3f}')"
   ]
  },
  {
   "cell_type": "code",
   "execution_count": null,
   "id": "dde3cb5c",
   "metadata": {},
   "outputs": [],
   "source": [
    "'''\n",
    "3.1 일표본 분산 검정 모분산에 대한 검정 (Chi-Square Test)\n",
    "\n",
    "- 추정  \n",
    "\n",
    "한 제약회사는 생산된 약의 함량 일관성을 평가하기 위해,  \n",
    "무작위로 `12개의 샘플`을 채취해 함량을 측정했습니다.  \n",
    "그 결과, `표본분산은 4.2`였습니다.\n",
    "\n",
    "약의 함량 분산(모분산)에 대해 `95% 신뢰구간`을 구하세요.  \n",
    "모집단은 정규분포를 따른다고 가정합니다.\n",
    "'''"
   ]
  },
  {
   "cell_type": "code",
   "execution_count": null,
   "id": "0ce1d371",
   "metadata": {},
   "outputs": [],
   "source": [
    "from scipy import stats\n",
    "\n",
    "sample_n = 12\n",
    "sample_var = 4.2\n",
    "\n",
    "alpha = 0.05"
   ]
  },
  {
   "cell_type": "code",
   "execution_count": null,
   "id": "d9afe517",
   "metadata": {},
   "outputs": [],
   "source": [
    "dof = sample_n - 1\n",
    "\n",
    "lower_limit = (dof * sample_var) / stats.chi2.ppf(1 - alpha / 2, df=dof)\n",
    "upper_limit = (dof * sample_var) / stats.chi2.ppf(alpha / 2, df=dof)\n",
    "\n",
    "print(f'신뢰구간 : {lower_limit:.2f} ~ {upper_limit:.2f}')"
   ]
  },
  {
   "cell_type": "code",
   "execution_count": null,
   "id": "da7d2f95",
   "metadata": {},
   "outputs": [],
   "source": [
    "'''\n",
    "3.1 일표본 분산 검정 모분산에 대한 검정 (Chi-Square Test)\n",
    "\n",
    "한 반의 시험 점수는 `분산이 36(=표준편차 6)`이라고 알려져 있습니다.  \n",
    "이를 검증하기 위해 무작위로 `15명의 학생`을 조사한 결과,  \n",
    "점수의 `표본분산은 50.5`로 나타났습니다.\n",
    "\n",
    "이 데이터를 바탕으로,  \n",
    "`실제 시험 점수의 분산이 36과 다른지를 유의수준 5%에서 검정`하세요.  \n",
    "(정규분포를 따른다고 가정)\n",
    "'''"
   ]
  },
  {
   "cell_type": "code",
   "execution_count": null,
   "id": "6feb95fc",
   "metadata": {},
   "outputs": [],
   "source": [
    "sample_n = 15\n",
    "sample_var = 50.5\n",
    "\n",
    "pop_var = 36\n",
    "alpha = 0.05"
   ]
  },
  {
   "cell_type": "code",
   "execution_count": null,
   "id": "33de1d33",
   "metadata": {},
   "outputs": [],
   "source": [
    "H0 = '분산이 36이다.'\n",
    "H1 = '분산이 36이 아니다.'"
   ]
  },
  {
   "cell_type": "code",
   "execution_count": null,
   "id": "1947a283",
   "metadata": {},
   "outputs": [],
   "source": [
    "from scipy import stats\n",
    "dof = sample_n - 1\n",
    "\n",
    "chi2_statistic = (dof * sample_var) / pop_var\n",
    "\n",
    "p_value = 2 * min(\n",
    "    stats.chi2.cdf(chi2_statistic, df=dof),              # 좌측 꼬리\n",
    "    1 - stats.chi2.cdf(chi2_statistic, df=dof)           # 우측 꼬리\n",
    ")\n",
    "'''\n",
    "p_left = stats.chi2.cdf(chi2_statistic, df=dof)\n",
    "p_right = 1 - p_left\n",
    "p_value = 2 * min(p_left, p_right)\n",
    "'''\n",
    "print(f'p_value : {p_value:.2f}')\n",
    "if p_value < 0.05:\n",
    "    print(H1)\n",
    "else:\n",
    "    print(H0)"
   ]
  },
  {
   "cell_type": "code",
   "execution_count": null,
   "id": "b38aeadb",
   "metadata": {},
   "outputs": [],
   "source": [
    "'''\n",
    "3.2 이표본 분산 검정 : 두 집단 분산 동질성 검정 (F-test)\n",
    "\n",
    "한 학교에서 두 반의 시험 점수의 `일관성(분산)`을 비교하고자 합니다.\n",
    "\n",
    "- A반: 1반, 표본 수 16명, 표준편차 5.2점  \n",
    "- B반: 2반, 표본 수 14명, 표준편차 3.9점\n",
    "\n",
    "`두 반의 시험 점수 분산이 같은지를 유의수준 5%에서 검정`하세요.  \n",
    "(양측검정, 정규분포 가정)\n",
    "'''"
   ]
  },
  {
   "cell_type": "code",
   "execution_count": null,
   "id": "453fb817",
   "metadata": {},
   "outputs": [],
   "source": [
    "from scipy import stats\n",
    "\n",
    "n_a = 16\n",
    "std_a = 5.2\n",
    "\n",
    "n_b = 14\n",
    "std_b = 3.9\n",
    "\n",
    "alpha = 0.05"
   ]
  },
  {
   "cell_type": "code",
   "execution_count": null,
   "id": "ee0afc51",
   "metadata": {},
   "outputs": [],
   "source": [
    "H0 = 'A와 B의 분산이 동일하다.'\n",
    "H1 = 'A와 B의 분산이 동일하지 않다.'"
   ]
  },
  {
   "cell_type": "code",
   "execution_count": null,
   "id": "6cfada7d",
   "metadata": {},
   "outputs": [],
   "source": [
    "dof_a = n_a - 1\n",
    "dof_b = n_b - 1\n",
    "\n",
    "if std_b < std_a:\n",
    "    f_statistic = (std_a**2) / (std_b**2)\n",
    "    p_value = 2 * min(\n",
    "        stats.f.cdf(f_statistic, dof_a, dof_b),\n",
    "        1 - stats.f.cdf(f_statistic, dof_a, dof_b),\n",
    "    )\n",
    "else:\n",
    "    f_statistic = (std_b**2) / (std_a**2)\n",
    "    p_value = 2 * min(\n",
    "        stats.f.cdf(f_statistic, dof_b, dof_a),\n",
    "        1 - stats.f.cdf(f_statistic, dof_b, dof_a),\n",
    "    )\n",
    "\n",
    "print(f'p_value : {p_value:.2f}')\n",
    "if p_value < 0.05:\n",
    "    print(H1)\n",
    "else:\n",
    "    print(H0)"
   ]
  }
 ],
 "metadata": {
  "language_info": {
   "name": "python"
  }
 },
 "nbformat": 4,
 "nbformat_minor": 5
}
