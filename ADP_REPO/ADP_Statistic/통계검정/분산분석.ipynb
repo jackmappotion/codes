{
 "cells": [
  {
   "cell_type": "code",
   "execution_count": null,
   "id": "727f5b02",
   "metadata": {},
   "outputs": [],
   "source": [
    "'''\n",
    "분산분석\n",
    "    1. 일원분산분석\n",
    "        1.1 ONEWAY ANOVA\n",
    "        1.2 ONEWAY ANOVA - 사후검정\n",
    "        \n",
    "    2. 이원분산분석 \n",
    "        2.1 TWOWAY ANOVA\n",
    "        2.2 TWOWAY ANOVA - 사후검정\n",
    "'''"
   ]
  },
  {
   "cell_type": "code",
   "execution_count": null,
   "id": "6e9a1da1",
   "metadata": {},
   "outputs": [],
   "source": [
    "'''\n",
    "1. 일원분산분석\n",
    "        1.1 ONEWAY ANOVA\n",
    "\n",
    "어느 제과회사는 세 가지 제빵법 A, B, C가  \n",
    "제품의 부피(볼륨)에 영향을 주는지를 실험하고자 했습니다.\n",
    "\n",
    "각 방법별로 **무작위로 5개씩** 빵을 만들어 부피를 측정했습니다:\n",
    "\n",
    "| A제빵법 | B제빵법 | C제빵법 |\n",
    "|---------|---------|---------|\n",
    "| 20.1    | 22.0    | 18.5    |\n",
    "| 21.0    | 21.5    | 19.0    |\n",
    "| 19.5    | 22.3    | 17.5    |\n",
    "| 20.3    | 23.1    | 18.2    |\n",
    "| 20.7    | 21.9    | 17.9    |\n",
    "\n",
    "이 데이터를 바탕으로,  \n",
    "**세 제빵법에 따라 평균 부피에 차이가 있는지**  \n",
    "**유의수준 5%에서 검정**하세요.  \n",
    "(정규성, 등분산 가정)\n",
    "'''"
   ]
  },
  {
   "cell_type": "code",
   "execution_count": null,
   "id": "5a9bf8a0",
   "metadata": {},
   "outputs": [],
   "source": [
    "# 그룹별 데이터\n",
    "A_data = [20.1, 21.0, 19.5, 20.3, 20.7]\n",
    "B_data = [22.0, 21.5, 22.3, 23.1, 21.9]\n",
    "C_data = [18.5, 19.0, 17.5, 18.2, 17.9]\n",
    "\n",
    "alpha = 0.05"
   ]
  },
  {
   "cell_type": "code",
   "execution_count": null,
   "id": "4bbb90ee",
   "metadata": {},
   "outputs": [],
   "source": [
    "H0 = '세 제빵법에 따른 평균 부피 차이가 없다.'\n",
    "H1 = '세 제빵법에 따른 평균 부피 차이가 있다.'"
   ]
  },
  {
   "cell_type": "code",
   "execution_count": null,
   "id": "f420b0d7",
   "metadata": {},
   "outputs": [],
   "source": [
    "from scipy import stats\n",
    "\n",
    "statistic, p_value = stats.f_oneway(A_data, B_data, C_data)\n",
    "print(f'statistic  :{statistic:.2f}')\n",
    "print(f'p_value  :{p_value:.2f}')\n",
    "if p_value < 0.05:\n",
    "    print(H1)\n",
    "else:\n",
    "    print(H0)"
   ]
  },
  {
   "cell_type": "code",
   "execution_count": null,
   "id": "af770b9a",
   "metadata": {},
   "outputs": [],
   "source": [
    "import numpy as np\n",
    "from statsmodels.stats.oneway import anova_oneway\n",
    "\n",
    "data = np.array(A_data + B_data + C_data).reshape(-1, 1)\n",
    "groups = np.array(['A'] * len(A_data) + ['B'] * len(B_data) + ['C'] * len(C_data)).reshape(-1, 1)\n",
    "anova_result = anova_oneway(data=data, groups=groups, use_var='equal')\n",
    "\n",
    "print(f'statistic  :{anova_result.statistic:.2f}')\n",
    "print(f'p_value  :{anova_result.pvalue:.2f}')\n",
    "if p_value < 0.05:\n",
    "    print(H1)\n",
    "else:\n",
    "    print(H0)"
   ]
  },
  {
   "cell_type": "code",
   "execution_count": null,
   "id": "f64eb6e9",
   "metadata": {},
   "outputs": [],
   "source": [
    "import pandas as pd\n",
    "from statsmodels.stats.multicomp import pairwise_tukeyhsd\n",
    "\n",
    "df = pd.DataFrame({'value': A_data + B_data + C_data, 'group': ['A'] * 5 + ['B'] * 5 + ['C'] * 5})\n",
    "tukey = pairwise_tukeyhsd(endog=df['value'], groups=df['group'], alpha=0.05)\n",
    "print(tukey)\n",
    "\n",
    "fig = tukey.plot_simultaneous()"
   ]
  },
  {
   "cell_type": "code",
   "execution_count": null,
   "id": "4bd04383",
   "metadata": {},
   "outputs": [],
   "source": [
    "'''\n",
    "2. 이원분산분석 \n",
    "    2.1 TWOWAY ANOVA\n",
    "\n",
    "한 스포츠 브랜드는  \n",
    "운동화의 디자인(기존형, 개선형)과 운동 종류(달리기, 농구)에 따라  \n",
    "착용감(Comfort Score)에 차이가 있는지를 실험하고자 했습니다.\n",
    "\n",
    "각 조건 조합마다 5명의 참가자에게 점수를 받았고,  \n",
    "데이터는 다음과 같습니다:\n",
    "\n",
    "| 디자인  | 운동종류 | 점수 |\n",
    "|--------|---------|------|\n",
    "| 기존형 | 달리기 | 7.1, 6.8, 7.3, 6.9, 7.0  \n",
    "| 기존형 | 농구   | 6.3, 6.5, 6.2, 6.7, 6.4  \n",
    "| 개선형 | 달리기 | 7.8, 8.0, 7.5, 7.9, 7.7  \n",
    "| 개선형 | 농구   | 6.9, 7.1, 7.0, 6.8, 7.2  \n",
    "📌 분석 목표\n",
    "디자인, 운동 종류가 착용감 점수에 영향을 주는가?\n",
    "두 요인 간 상호작용 효과도 존재하는가?\n",
    "'''"
   ]
  },
  {
   "cell_type": "code",
   "execution_count": null,
   "id": "ee381f5a",
   "metadata": {},
   "outputs": [],
   "source": [
    "import pandas as pd\n",
    "\n",
    "# 데이터 구성\n",
    "design = ['기존형'] * 10 + ['개선형'] * 10\n",
    "exercise = ['달리기'] * 5 + ['농구'] * 5 + ['달리기'] * 5 + ['농구'] * 5\n",
    "score = [\n",
    "    7.1, 6.8, 7.3, 6.9, 7.0,   # 기존형-달리기\n",
    "    6.3, 6.5, 6.2, 6.7, 6.4,   # 기존형-농구\n",
    "    7.8, 8.0, 7.5, 7.9, 7.7,   # 개선형-달리기\n",
    "    6.9, 7.1, 7.0, 6.8, 7.2    # 개선형-농구\n",
    "]\n",
    "\n",
    "# DataFrame 생성\n",
    "df = pd.DataFrame({\n",
    "    'design': design,\n",
    "    'exercise': exercise,\n",
    "    'score': score\n",
    "})\n",
    "df.head()"
   ]
  },
  {
   "cell_type": "code",
   "execution_count": null,
   "id": "e87a2e63",
   "metadata": {},
   "outputs": [],
   "source": [
    "from statsmodels.formula.api import ols\n",
    "formula = 'score ~ C(design) + C(exercise) + C(design):C(exercise)'\n",
    "model = ols(formula=formula, data=df)\n",
    "model_fitted = model.fit()\n",
    "model_fitted.summary()"
   ]
  },
  {
   "cell_type": "code",
   "execution_count": null,
   "id": "0230ff69",
   "metadata": {},
   "outputs": [],
   "source": [
    "from statsmodels.stats.anova import anova_lm\n",
    "\n",
    "anova_result = anova_lm(model_fitted, typ=2).fillna('')\n",
    "anova_result"
   ]
  },
  {
   "cell_type": "code",
   "execution_count": null,
   "id": "51b45b57",
   "metadata": {},
   "outputs": [],
   "source": [
    "if anova_result.loc['C(design)', 'PR(>F)'] < 0.05:\n",
    "    print('Design은 Score에 영향을 끼친다.')\n",
    "else:\n",
    "    print('Design은 Score에 영향을 끼치지 않는다.')\n",
    "\n",
    "if anova_result.loc['C(exercise)', 'PR(>F)'] < 0.05:\n",
    "    print('exercise은 Score에 영향을 끼친다.')\n",
    "else:\n",
    "    print('exercise은 Score에 영향을 끼치지 않는다.')\n",
    "\n",
    "if anova_result.loc['C(design):C(exercise)', 'PR(>F)'] < 0.05:\n",
    "    print('design과 exercise는 서로 영향을 끼친다.')\n",
    "else:\n",
    "    print('design과 exercise는 서로 영향을 끼치지 않는다.')"
   ]
  },
  {
   "cell_type": "code",
   "execution_count": null,
   "id": "d84eb006",
   "metadata": {},
   "outputs": [],
   "source": [
    "import matplotlib.pyplot as plt\n",
    "from statsmodels.stats.multicomp import pairwise_tukeyhsd\n",
    "\n",
    "plt.rcParams['font.family'] = 'AppleGothic'\n",
    "df['group'] = df['design'] + '_' + df['exercise']\n",
    "\n",
    "tukey = pairwise_tukeyhsd(endog=df['score'], groups=df['group'], alpha=0.05)\n",
    "print(tukey)\n",
    "\n",
    "fig = tukey.plot_simultaneous()"
   ]
  },
  {
   "cell_type": "code",
   "execution_count": null,
   "id": "bda7a231",
   "metadata": {},
   "outputs": [],
   "source": [
    "from statsmodels.stats.multicomp import MultiComparison\n",
    "df['group'] = df['design'] + '_' + df['exercise']\n",
    "\n",
    "multi_comparison = MultiComparison(data=df['score'], groups=df['group'])\n",
    "multi_comparison.tukeyhsd(alpha=0.05).summary()"
   ]
  },
  {
   "cell_type": "code",
   "execution_count": null,
   "id": "d8acad03",
   "metadata": {},
   "outputs": [],
   "source": [
    "from statsmodels.graphics.factorplots import interaction_plot\n",
    "fig = interaction_plot(\n",
    "    df['exercise'], df['design'], df['score'],\n",
    "    )"
   ]
  }
 ],
 "metadata": {
  "language_info": {
   "name": "python"
  }
 },
 "nbformat": 4,
 "nbformat_minor": 5
}
