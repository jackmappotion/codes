{
 "cells": [
  {
   "cell_type": "code",
   "execution_count": null,
   "id": "03ec4bd2",
   "metadata": {},
   "outputs": [],
   "source": [
    "'''\n",
    "비모수 검정\n",
    "\n",
    "1 평균(중심경향) 차이 검정\n",
    "    1.1 일표본 검정\n",
    "        - 일표본 윌콕슨 부호순위 검정 (One-sample Wilcoxon Signed-Rank Test)\n",
    "            → 정규성 위배된 평균 검정 대안\n",
    "            → 중앙값과의 차이 검정\n",
    "\n",
    "    1.2 이표본 독립표본 검정\n",
    "        - 맨휘트니 U 검정 (Mann-Whitney U Test)\n",
    "            → 독립표본 t-test의 비모수 대안\n",
    "            → 정규성 및 등분산 가정 위배 시 사용\n",
    "\n",
    "    1.3 이표본 대응표본 검정\n",
    "        - 윌콕슨 부호순위 검정 (Wilcoxon Signed-Rank Test)\n",
    "            → 대응표본 t-test의 비모수 대안\n",
    "            → 차이값 정규성 위배 시 사용\n",
    "\n",
    "2 분산 동질성 검정\n",
    "    - Levene 검정\n",
    "        → 평균 기준 절대편차\n",
    "    - Bartlett 검정\n",
    "        → 로그 분산 기반 (정규성 예민)\n",
    "    - Brown-Forsythe 검정\n",
    "        → 중앙값 기준 절대편차 (이상치에 강건)\n",
    "\n",
    "3 순위 기반 3집단 이상 검정\n",
    "    3.1 독립 3집단 이상\n",
    "        - 크루스칼-왈리스 검정 (Kruskal-Wallis Test)\n",
    "            → 일원분산분석(One-way ANOVA)의 비모수 대안\n",
    "\n",
    "    3.2 반복측정 3집단 이상\n",
    "        - 프리드먼 검정 (Friedman Test)\n",
    "            → 이원 반복측정 ANOVA의 비모수 대안\n",
    "\n",
    "4 순서 무작위성 및 독립성 검정\n",
    "\n",
    "    1 무작위성 검정\n",
    "        - 런 검정 (Run Test)\n",
    "            → 순서의 랜덤성 검정\n",
    "\n",
    "    2 대응 범주형 데이터 검정\n",
    "        - 맥니마 검정 (McNemar Test)\n",
    "            → 대응표본 이항 자료의 비대칭성 검정\n",
    "\n",
    "    3 범주형 독립성 검정\n",
    "        - 카이제곱 독립성 검정 (Chi-square Test of Independence)\n",
    "            → 교차표 기반 범주형 변수 독립성 검정\n",
    "\n",
    "    4 세 집단 이상 범주형 대응 데이터 검정\n",
    "        - 코크란의 Q 검정 (Cochran's Q Test)\n",
    "            → 3개 이상 이항 반복 측정 대응 자료에 대한 검정\n",
    "\n",
    "'''"
   ]
  },
  {
   "cell_type": "code",
   "execution_count": null,
   "id": "15ee2cbb",
   "metadata": {},
   "outputs": [],
   "source": [
    "'''\n",
    "1 평균(중심경향) 차이 검정\n",
    "    1.1 일표본 검정\n",
    "        - 일표본 윌콕슨 부호순위 검정 (One-sample Wilcoxon Signed-Rank Test)\n",
    "\n",
    "어떤 다이어트 프로그램의 효과를 확인하기 위해,  \n",
    "10명의 체중 변화량(감량 kg)을 다음과 같이 측정했습니다:\n",
    "\n",
    "```\n",
    "[2.1, 1.8, 2.5, 1.6, 2.2, 1.9, 2.3, 2.0, 2.1, 1.7]\n",
    "```\n",
    "\n",
    "연구팀은 `이 프로그램이 평균적으로 2kg의 체중 감량 효과`가 있다고 주장합니다.\n",
    "\n",
    "이 데이터를 바탕으로,  \n",
    "`감량량의 중앙값이 2kg과 다른지`  \n",
    "`유의수준 5%에서 검정`하세요.  \n",
    "(양측 검정, 정규성 가정하지 않음)\n",
    "'''"
   ]
  },
  {
   "cell_type": "code",
   "execution_count": null,
   "id": "b55e6d59",
   "metadata": {},
   "outputs": [],
   "source": [
    "import numpy as np\n",
    "from scipy import stats\n",
    "\n",
    "data = [2.1, 1.8, 2.5, 1.6, 2.2, 1.9, 2.3, 2.0, 2.1, 1.7]"
   ]
  },
  {
   "cell_type": "code",
   "execution_count": null,
   "id": "15872769",
   "metadata": {},
   "outputs": [],
   "source": [
    "H0 = '중앙값이 2kg이다.'\n",
    "H1 = '중앙값이 2kg이 아니다.'"
   ]
  },
  {
   "cell_type": "code",
   "execution_count": null,
   "id": "080b895d",
   "metadata": {},
   "outputs": [],
   "source": [
    "# 검정\n",
    "data = np.array(data)\n",
    "statistic, p_value = stats.wilcoxon(data - 2, alternative='two-sided')\n",
    "print(f'statistic : {statistic:.2f}')\n",
    "print(f'p_value : {p_value:.2f}')\n",
    "\n",
    "if p_value < 0.05:\n",
    "    print(H1)\n",
    "else:\n",
    "    print(H0)"
   ]
  },
  {
   "cell_type": "code",
   "execution_count": null,
   "id": "b1d5e519",
   "metadata": {},
   "outputs": [],
   "source": [
    "'''\n",
    "1 평균(중심경향) 차이 검정\n",
    "    1.2 이표본 독립표본 검정\n",
    "        - 맨휘트니 U 검정 (Mann-Whitney U Test)\n",
    "\n",
    "한 학교에서 `남학생과 여학생의 집중력 점수`를 비교하고자 했습니다.  \n",
    "점수는 아래와 같습니다:\n",
    "\n",
    "- `남학생`: 78, 82, 85, 75, 80, 79, 77  \n",
    "- `여학생`: 88, 90, 84, 86, 89, 91, 85  \n",
    "\n",
    "이 데이터를 바탕으로,  \n",
    "`남학생과 여학생의 집중력 점수 분포가 동일한지`,  \n",
    "`유의수준 5%에서 검정`하세요.  \n",
    "(정규성 가정하지 않음, 양측검정)\n",
    "'''"
   ]
  },
  {
   "cell_type": "code",
   "execution_count": null,
   "id": "ba372dc2",
   "metadata": {},
   "outputs": [],
   "source": [
    "from scipy import stats\n",
    "\n",
    "a = [78, 82, 85, 75, 80, 79, 77]\n",
    "b = [88, 90, 84, 86, 89, 91, 85]"
   ]
  },
  {
   "cell_type": "code",
   "execution_count": null,
   "id": "8fc9d024",
   "metadata": {},
   "outputs": [],
   "source": [
    "H0 = '두 집단의 집중력 분포가 동일하다.'\n",
    "H1 = '두 집단의 집중력 분포가 동일하지 않다.'"
   ]
  },
  {
   "cell_type": "code",
   "execution_count": null,
   "id": "459417c1",
   "metadata": {},
   "outputs": [],
   "source": [
    "# 검정\n",
    "statistic, p_value = stats.mannwhitneyu(a, b, alternative='two-sided')\n",
    "print(f'statistic : {statistic:.2f}')\n",
    "print(f'p_value : {p_value:.2f}')\n",
    "\n",
    "if p_value < 0.05:\n",
    "    print(H1)\n",
    "else:\n",
    "    print(H0)"
   ]
  },
  {
   "cell_type": "code",
   "execution_count": null,
   "id": "fea7ab37",
   "metadata": {},
   "outputs": [],
   "source": [
    "'''\n",
    "1 평균(중심경향) 차이 검정\n",
    "    1.3 이표본 대응표본 검정\n",
    "        - 윌콕슨 부호순위 검정 (Wilcoxon Signed-Rank Test)\n",
    "\n",
    "한 체력 훈련 프로그램의 효과를 검증하기 위해,  \n",
    "10명의 참가자에게 `훈련 전/후 악력(kg)`을 측정했습니다.\n",
    "\n",
    "| 참가자 | 훈련 전 | 훈련 후 |\n",
    "|--------|---------|---------|\n",
    "| 1      | 30      | 33  \n",
    "| 2      | 32      | 34  \n",
    "| 3      | 29      | 30  \n",
    "| 4      | 28      | 27  \n",
    "| 5      | 31      | 33  \n",
    "| 6      | 34      | 34  \n",
    "| 7      | 30      | 32  \n",
    "| 8      | 27      | 28  \n",
    "| 9      | 33      | 35  \n",
    "| 10     | 31      | 31  \n",
    "\n",
    "---\n",
    "\n",
    "이 데이터를 바탕으로,  \n",
    "`훈련 전후의 악력에 차이가 있었는지`,  \n",
    "즉 훈련이 효과가 있었는지를  \n",
    "`유의수준 5%에서 검정`하세요.  \n",
    "(대응표본, 정규성 가정 없음)\n",
    "'''"
   ]
  },
  {
   "cell_type": "code",
   "execution_count": null,
   "id": "49f5c657",
   "metadata": {},
   "outputs": [],
   "source": [
    "from scipy import stats\n",
    "\n",
    "before = [30, 32, 29, 28, 31, 34, 30, 27, 33, 31]\n",
    "after = [33, 34, 30, 27, 33, 34, 32, 28, 35, 31]"
   ]
  },
  {
   "cell_type": "code",
   "execution_count": null,
   "id": "5ceec15b",
   "metadata": {},
   "outputs": [],
   "source": [
    "H0 = '훈련 전후의 악력 차이가 없다.'\n",
    "H1 = '훈련 전후의 악력 차이가 있다.'"
   ]
  },
  {
   "cell_type": "code",
   "execution_count": null,
   "id": "57d5e53a",
   "metadata": {},
   "outputs": [],
   "source": [
    "statistic, p_value = stats.wilcoxon(before, after, alternative='two-sided')\n",
    "print(f'statistic : {statistic:.2f}')\n",
    "print(f'p_value : {p_value:.2f}')\n",
    "\n",
    "if p_value < 0.05:\n",
    "    print(H1)\n",
    "else:\n",
    "    print(H0)"
   ]
  },
  {
   "cell_type": "code",
   "execution_count": null,
   "id": "8e33aa9f",
   "metadata": {},
   "outputs": [],
   "source": [
    "'''\n",
    "2 분산 동질성 검정\n",
    "    - Levene 검정\n",
    "        → 평균 기준 절대편차\n",
    "    - Brown-Forsythe 검정\n",
    "        → 중앙값 기준 절대편차 (이상치에 강건)\n",
    "    - Bartlett 검정\n",
    "        → 로그 분산 기반 (정규성 예민)\n",
    "        \n",
    "문제: 세 개 지역(A, B, C)에서 판매된 제품의 고객 만족도 점수가 아래와 같다.  \n",
    "각 그룹이 `정규분포를 따르는지`, 그리고 `등분산성(분산이 같은지)`를 검정하라.  \n",
    "(유의수준 0.05 사용)\n",
    "\n",
    "- A지역 고객 만족도  \n",
    "`[74, 77, 73, 72, 76, 74, 75]`\n",
    "\n",
    "- B지역 고객 만족도  \n",
    "`[78, 79, 75, 74, 77, 78, 80]`\n",
    "\n",
    "- C지역 고객 만족도  \n",
    "`[70, 68, 72, 71, 67, 69, 70]`\n",
    "\n",
    "---\n",
    "\n",
    "문제\n",
    "\n",
    "1. 각 그룹이 `정규분포인지 확인` → [샤피로-윌크 검정] 또는 [콜모고로프-스미르노프 검정]  \n",
    "2. 세 그룹의 `등분산성 확인` → [Levene 검정] 또는 [Bartlett 검정]  \n",
    "'''"
   ]
  },
  {
   "cell_type": "code",
   "execution_count": null,
   "id": "6d9b31e7",
   "metadata": {},
   "outputs": [],
   "source": [
    "from scipy import stats\n",
    "\n",
    "A = [74, 77, 73, 72, 76, 74, 75]\n",
    "B = [78, 79, 75, 74, 77, 78, 80]\n",
    "C = [70, 68, 72, 71, 67, 69, 70]\n"
   ]
  },
  {
   "cell_type": "code",
   "execution_count": null,
   "id": "a40df7ad",
   "metadata": {},
   "outputs": [],
   "source": [
    "# Levene 검정 [정규성이 필요 없음]\n",
    "H0 = '등분산성을 가정할 수 있다.'\n",
    "H1 = '등분산성에 대한 가정이 위배된다.'\n",
    "\n",
    "statistic, pval = stats.levene(A, B, C)\n",
    "\n",
    "print('A, B, C')\n",
    "if pval > 0.05:\n",
    "    print(H0)\n",
    "else:\n",
    "    print(H1)"
   ]
  },
  {
   "cell_type": "code",
   "execution_count": null,
   "id": "63f1c4d8",
   "metadata": {},
   "outputs": [],
   "source": [
    "# Brown-Forsythe 검정 [levene 검정과 유사하지만, 중앙값 기준 절대편차 사용]\n",
    "H0 = '등분산성을 가정할 수 있다.'\n",
    "H1 = '등분산성에 대한 가정이 위배된다.'\n",
    "\n",
    "statistic, pval = stats.levene(A, B, C, center='median')\n",
    "\n",
    "print('A, B, C')\n",
    "if pval > 0.05:\n",
    "    print(H0)\n",
    "else:\n",
    "    print(H1)"
   ]
  },
  {
   "cell_type": "code",
   "execution_count": null,
   "id": "52a41401",
   "metadata": {},
   "outputs": [],
   "source": [
    "# Bartlett 검정 [정규성 필요]\n",
    "H0 = '등분산성을 가정할 수 있다.'\n",
    "H1 = '등분산성에 대한 가정이 위배된다.'\n",
    "\n",
    "statistic, pval = stats.bartlett(A, B, C)\n",
    "print('A, B, C')\n",
    "if pval < 0.05:\n",
    "    print(H1)\n",
    "else:\n",
    "    print(H0)"
   ]
  },
  {
   "cell_type": "code",
   "execution_count": null,
   "id": "41414d7a",
   "metadata": {},
   "outputs": [],
   "source": [
    "'''\n",
    "3 순위 기반 3집단 이상 검정\n",
    "    3.1 독립 3집단 이상\n",
    "        - 크루스칼-왈리스 검정 (Kruskal-Wallis Test)\n",
    "            → 일원분산분석(One-way ANOVA)의 비모수 대안\n",
    "\n",
    "문제: 크루스칼-왈리스 검정 (독립 3집단 이상 비모수 검정)\n",
    "\n",
    "한 교육연구소는 `공부 시간에 따른 시험 점수 차이`를 분석하고자 했습니다.  \n",
    "참가자들을 아래 세 그룹으로 나누고, 시험 점수를 기록했습니다:\n",
    "\n",
    "- `그룹 A (공부시간 적음)`: 65, 70, 68, 72, 66  \n",
    "- `그룹 B (공부시간 중간)`: 75, 78, 74, 77, 76  \n",
    "- `그룹 C (공부시간 많음)`: 82, 85, 88, 84, 87  \n",
    "---\n",
    "문제\n",
    "\n",
    "이 데이터를 바탕으로,  \n",
    "`세 그룹의 시험 점수 분포에 차이가 있는지`,  \n",
    "`유의수준 5%에서 검정`하세요.  \n",
    "(정규성 가정하지 않음, 독립된 집단)\n",
    "'''"
   ]
  },
  {
   "cell_type": "code",
   "execution_count": null,
   "id": "9adea201",
   "metadata": {},
   "outputs": [],
   "source": [
    "import pandas as pd\n",
    "from scipy import stats\n",
    "import scikit_posthocs as sp\n",
    "\n",
    "A = [65, 70, 68, 72, 66]\n",
    "B = [75, 78, 74, 77, 76]\n",
    "C = [82, 85, 88, 84, 87]"
   ]
  },
  {
   "cell_type": "code",
   "execution_count": null,
   "id": "5e71e4b1",
   "metadata": {},
   "outputs": [],
   "source": [
    "H0 = '세 그룹의 시험 점수 분포에 차이가 없다.'\n",
    "H1 = '세 그룹의 시험 점수 분포에 차이가 있다.'"
   ]
  },
  {
   "cell_type": "code",
   "execution_count": null,
   "id": "ebda5091",
   "metadata": {},
   "outputs": [],
   "source": [
    "statistic, p_value = stats.kruskal(A, B, C)\n",
    "\n",
    "print(f'statistic : {statistic:.2f}')\n",
    "print(f'p_value : {p_value:.2f}')\n",
    "\n",
    "if p_value < 0.05:\n",
    "    print(H1)\n",
    "else:\n",
    "    print(H0)"
   ]
  },
  {
   "cell_type": "code",
   "execution_count": null,
   "id": "005635f2",
   "metadata": {},
   "outputs": [],
   "source": [
    "df = pd.DataFrame({\n",
    "    'score': A + B + C,\n",
    "    'group': ['A']*5 + ['B']*5 + ['C']*5\n",
    "})\n",
    "# Dunn's test with Bonferroni \n",
    "# 각 value가 (p_value)\n",
    "sp.posthoc_dunn(df, val_col='score', group_col='group', p_adjust='bonferroni')"
   ]
  },
  {
   "cell_type": "code",
   "execution_count": null,
   "id": "319f454f",
   "metadata": {},
   "outputs": [],
   "source": [
    "'''\n",
    "3 순위 기반 3집단 이상 검정\n",
    "    3.2 반복측정 3집단 이상\n",
    "        - 프리드먼 검정 (Friedman Test)\n",
    "            → 이원 반복측정 ANOVA의 비모수 대안\n",
    "\n",
    "문제: 프리드먼 검정 (Friedman Test) [대응표본]\n",
    "\n",
    "한 피트니스 센터에서는  \n",
    "`운동 종류에 따라 스트레스 감소 효과가 다른지` 알아보기 위해,  \n",
    "`10명의 참가자`에게 세 가지 운동을 각각 실시하게 하고,  \n",
    "`스트레스 감소 점수(0~10점)`를 기록했습니다:\n",
    "\n",
    "| 참가자 | 요가 | 달리기 | 웨이트 |\n",
    "|--------|------|--------|--------|\n",
    "| 1      | 7    | 6      | 5  \n",
    "| 2      | 6    | 5      | 4  \n",
    "| 3      | 8    | 7      | 6  \n",
    "| 4      | 7    | 6      | 5  \n",
    "| 5      | 6    | 5      | 4  \n",
    "| 6      | 8    | 7      | 6  \n",
    "| 7      | 7    | 6      | 5  \n",
    "| 8      | 6    | 5      | 4  \n",
    "| 9      | 7    | 6      | 5  \n",
    "| 10     | 8    | 7      | 6  \n",
    "---\n",
    "위 데이터를 바탕으로,  \n",
    "`운동 종류에 따라 스트레스 감소 효과가 다른지`,  \n",
    "`유의수준 5%에서 검정`하세요.  \n",
    "(정규성 가정하지 않음, 반복측정 데이터)\n",
    "'''"
   ]
  },
  {
   "cell_type": "code",
   "execution_count": null,
   "id": "9dda259b",
   "metadata": {},
   "outputs": [],
   "source": [
    "import pandas as pd\n",
    "from scipy import stats\n",
    "import scikit_posthocs as sp\n",
    "\n",
    "df = pd.DataFrame({\n",
    "    'yoga': [7, 6, 8, 7, 6, 8, 7, 6, 7, 8],\n",
    "    'running': [6, 5, 7, 6, 5, 7, 6, 5, 6, 7],\n",
    "    'weight': [5, 4, 6, 5, 4, 6, 5, 4, 5, 6],\n",
    "})\n",
    "\n",
    "df.head()"
   ]
  },
  {
   "cell_type": "code",
   "execution_count": null,
   "id": "3a16c447",
   "metadata": {},
   "outputs": [],
   "source": [
    "H0 = '운동 종류에 따라 스트레스 감소 효과가 같다.'\n",
    "H1 = '운동 종류에 따라 스트레스 감소 효과가 다르다.'"
   ]
  },
  {
   "cell_type": "code",
   "execution_count": null,
   "id": "49eab9bf",
   "metadata": {},
   "outputs": [],
   "source": [
    "statistic, p_value = stats.friedmanchisquare(df['yoga'], df['running'], df['weight'])\n",
    "print(f'statistic : {statistic:.2f}')\n",
    "print(f'p_value : {p_value:.2f}')\n",
    "\n",
    "if p_value < 0.05:\n",
    "    print(H1)\n",
    "else:\n",
    "    print(H0)"
   ]
  },
  {
   "cell_type": "code",
   "execution_count": null,
   "id": "8ec62218",
   "metadata": {},
   "outputs": [],
   "source": [
    "df_long = pd.melt(df.reset_index(), id_vars=['index'], value_vars=['yoga', 'running', 'weight'])\n",
    "df_long.columns = ['id', 'exercise', 'score']\n",
    "\n",
    "# Dunn's test with Bonferroni \n",
    "# 각 value가 (p_value)\n",
    "sp.posthoc_dunn(df_long, val_col='score', group_col='exercise', p_adjust='bonferroni')"
   ]
  },
  {
   "cell_type": "code",
   "execution_count": null,
   "id": "ec734508",
   "metadata": {},
   "outputs": [],
   "source": [
    "'''\n",
    "4 순서 무작위성 및 독립성 검정\n",
    "    1 무작위성 검정\n",
    "        - 런 검정 (Run Test)\n",
    "            → 순서의 랜덤성 검정\n",
    "\n",
    "문제: 무작위성 검정 (런 검정, Run Test)\n",
    "\n",
    "한 공장에서 생산된 제품 중 불량 여부를  \n",
    "시간순으로 나열한 기록이 아래와 같다고 합니다:\n",
    "\n",
    "```\n",
    "양품(1), 양품(1), 불량(0), 양품(1), 양품(1), 불량(0), 불량(0), 양품(1), 불량(0), 양품(1)\n",
    "```\n",
    "\n",
    "이 데이터를 바탕으로,  \n",
    "`생산된 제품의 불량 여부가 시간 순서와 무관하게 무작위로 발생하는지`  \n",
    "`유의수준 5%에서 검정`하세요.\n",
    "'''"
   ]
  },
  {
   "cell_type": "code",
   "execution_count": null,
   "id": "c47c21bd",
   "metadata": {},
   "outputs": [],
   "source": [
    "from statsmodels.sandbox.stats.runs import runstest_1samp\n",
    "\n",
    "data = [1, 1, 0, 1, 1, 0, 0, 1, 0, 1]\n",
    "alpha = 0.05"
   ]
  },
  {
   "cell_type": "code",
   "execution_count": null,
   "id": "98806c18",
   "metadata": {},
   "outputs": [],
   "source": [
    "statistic, p_value = runstest_1samp(data)\n",
    "print(p_value)\n",
    "if p_value < 0.05:\n",
    "    print('무작위성을 만족하지 않는다.')\n",
    "else:\n",
    "    print('무작위성을 만족한다.')"
   ]
  },
  {
   "cell_type": "code",
   "execution_count": null,
   "id": "b63f295c",
   "metadata": {},
   "outputs": [],
   "source": [
    "'''\n",
    "4 순서 무작위성 및 독립성 검정\n",
    "    1 무작위성 검정\n",
    "        - 런 검정 (Run Test)\n",
    "            → 순서의 랜덤성 검정\n",
    "\n",
    "문제: 이표본 무작위성 검정 (런 검정) [이표본 런검정 -> 대응표본]\n",
    "\n",
    "한 병원에서 `수면 개선 프로그램`을 10명에게 적용한 후,  \n",
    "`프로그램 전후의 수면 시간 변화`를 다음과 같이 측정했습니다:\n",
    "\n",
    "| 참가자 | 프로그램 전 수면시간 | 프로그램 후 수면시간 |\n",
    "|--------|----------------------|-----------------------|\n",
    "| 1      | 5.5                  | 6.0  \n",
    "| 2      | 6.0                  | 5.8  \n",
    "| 3      | 5.2                  | 6.2  \n",
    "| 4      | 6.1                  | 6.4  \n",
    "| 5      | 5.8                  | 5.5  \n",
    "| 6      | 6.3                  | 6.1  \n",
    "| 7      | 5.0                  | 6.0  \n",
    "| 8      | 6.5                  | 6.3  \n",
    "| 9      | 5.6                  | 6.1  \n",
    "| 10     | 6.0                  | 5.7  \n",
    "\n",
    "---\n",
    "\n",
    "문제\n",
    "\n",
    "위 데이터를 바탕으로,  \n",
    "`수면 시간의 증가/감소가 무작위로 발생했는지`,  \n",
    "즉 `변화 방향(증가/감소)이 특정 패턴 없이 나타났는지를`  \n",
    "`유의수준 5%에서 검정`하세요.\n",
    "'''"
   ]
  },
  {
   "cell_type": "code",
   "execution_count": null,
   "id": "01503b8c",
   "metadata": {},
   "outputs": [],
   "source": [
    "import numpy as np\n",
    "\n",
    "before = [5.5, 6.0, 5.2, 6.1, 5.8, 6.3, 5.0, 6.5, 5.6, 6.0]\n",
    "after = [6.0, 5.8, 6.2, 6.4, 5.5, 6.1, 6.0, 6.3, 6.1, 5.7]"
   ]
  },
  {
   "cell_type": "code",
   "execution_count": null,
   "id": "c995045e",
   "metadata": {},
   "outputs": [],
   "source": [
    "diff = np.array(after) - np.array(before)\n",
    "diff = (diff > 0).astype(int)\n",
    "statistic, p_value = runstest_1samp(diff)\n",
    "\n",
    "print(p_value)\n",
    "if p_value < 0.05:\n",
    "    print('무작위성을 만족하지 않는다.')\n",
    "else:\n",
    "    print('무작위성을 만족한다.')"
   ]
  },
  {
   "cell_type": "code",
   "execution_count": null,
   "id": "89740d0b",
   "metadata": {},
   "outputs": [],
   "source": [
    "'''\n",
    "4 순서 무작위성 및 독립성 검정\n",
    "    2 대응 범주형 데이터 검정\n",
    "        - 맥니마 검정 (McNemar Test)\n",
    "            → 대응표본 이항 자료의 비대칭성 검정\n",
    "\n",
    "문제: 맥니마 검정 (McNemar Test) [대응표본]\n",
    "\n",
    "한 병원에서 `신약 복용 전후의 효과`를 조사하기 위해,  \n",
    "같은 환자 100명에게 신약을 복용시키기 전과 후의 `증상 호전 여부`를 조사했습니다.\n",
    "\n",
    "조사 결과는 다음과 같은 2×2 교차표로 정리되었습니다:\n",
    "\n",
    "|                | `복용 후: 호전` | `복용 후: 미호전` |\n",
    "|----------------|--------------------|----------------------|\n",
    "| `복용 전: 호전`   |        40         |         10           |\n",
    "| `복용 전: 미호전` |        30         |         20           |\n",
    "\n",
    "이 데이터를 바탕으로,  \n",
    "`신약 복용 전후의 호전 여부에 변화가 있었는지`  \n",
    "`유의수준 5%에서 검정`하세요.\n",
    "'''"
   ]
  },
  {
   "cell_type": "code",
   "execution_count": null,
   "id": "2170d4cf",
   "metadata": {},
   "outputs": [],
   "source": [
    "import numpy as np\n",
    "from statsmodels.stats.contingency_tables import mcnemar\n",
    "\n",
    "table = np.array(\n",
    "    [[40, 10],\n",
    "     [30, 20]]\n",
    ")"
   ]
  },
  {
   "cell_type": "code",
   "execution_count": null,
   "id": "2e366079",
   "metadata": {},
   "outputs": [],
   "source": [
    "H0 = '복용 전후에 차이가 없다 (즉, 변화 없음)'\n",
    "H1 = '복용 전후에 차이가 있다 (즉, 효과 있음)'"
   ]
  },
  {
   "cell_type": "code",
   "execution_count": null,
   "id": "fda33269",
   "metadata": {},
   "outputs": [],
   "source": [
    "mc = mcnemar(table, exact=False, correction=False)\n",
    "statistic, p_value = mc.statistic, mc.pvalue\n",
    "\n",
    "print(f'statistic : {statistic:.2f}')\n",
    "print(f'p_value : {p_value:.2f}')\n",
    "\n",
    "if p_value < 0.05:\n",
    "    print(H1)\n",
    "else:\n",
    "    print(H0)"
   ]
  },
  {
   "cell_type": "code",
   "execution_count": null,
   "id": "1aebb3e8",
   "metadata": {},
   "outputs": [],
   "source": [
    "'''\n",
    "4 순서 무작위성 및 독립성 검정\n",
    "    3 범주형 독립성 검정\n",
    "        - 카이제곱 독립성 검정 (Chi-square Test of Independence)\n",
    "            → 교차표 기반 범주형 변수 독립성 검정\n",
    "\n",
    "문제: 카이제곱 독립성 검정\n",
    "\n",
    "한 대학교에서 전공(문과 / 이과)과 커피 선호도(YES / NO) 사이에 연관성이 있는지를 조사했습니다.  \n",
    "아래는 200명의 학생을 대상으로 조사한 결과입니다:\n",
    "\n",
    "| 전공   | 커피 선호 (YES) | 커피 비선호 (NO) |\n",
    "|--------|------------------|------------------|\n",
    "| 문과   | 48               | 52               |\n",
    "| 이과   | 72               | 28               |\n",
    "\n",
    "이 데이터를 바탕으로,  \n",
    "`전공과 커피 선호도 사이에 연관이 있는지를 유의수준 5%에서 검정`하세요.\n",
    "'''"
   ]
  },
  {
   "cell_type": "code",
   "execution_count": null,
   "id": "b33f191a",
   "metadata": {},
   "outputs": [],
   "source": [
    "import numpy as np\n",
    "from scipy import stats\n",
    "\n",
    "table = np.array([\n",
    "    [48, 52],  # 문과\n",
    "    [72, 28],  # 이과\n",
    "])"
   ]
  },
  {
   "cell_type": "code",
   "execution_count": null,
   "id": "53ff8143",
   "metadata": {},
   "outputs": [],
   "source": [
    "H0 = '전공과 커피 선호도 사이에 연관이 없다.'\n",
    "H1 = '전공과 커피 선호도 사이에 연관이 있다.'"
   ]
  },
  {
   "cell_type": "code",
   "execution_count": null,
   "id": "0d18ff32",
   "metadata": {},
   "outputs": [],
   "source": [
    "statistic, p_value, dof, expected_table = stats.chi2_contingency(table)\n",
    "print(f'statistic : {statistic:.2f}')\n",
    "print(f'p_value : {p_value:.2f}')\n",
    "\n",
    "if p_value < 0.05:\n",
    "    print(H1)\n",
    "else:\n",
    "    print(H0)"
   ]
  },
  {
   "cell_type": "code",
   "execution_count": null,
   "id": "963b5819",
   "metadata": {},
   "outputs": [],
   "source": [
    "residual_table = (table - expected_table)\n",
    "std_residual_table = residual_table / np.sqrt(expected_table)"
   ]
  },
  {
   "cell_type": "code",
   "execution_count": null,
   "id": "69cc38d7",
   "metadata": {},
   "outputs": [],
   "source": [
    "'''\n",
    "4 순서 무작위성 및 독립성 검정\n",
    "    3 범주형 독립성 검정\n",
    "        - 카이제곱 독립성 검정 (Chi-square Test of Independence)\n",
    "            → 교차표 기반 범주형 변수 독립성 검정\n",
    "        \n",
    "        -> 만약 기대도수가 5 이하인 경우,\n",
    "        - 피셔의 정확검정 (Fisher’s Exact Test)\n",
    "            → 카이제곱 검정의 대안\n",
    "            → 작은 표본에서 유용\n",
    "\n",
    "문제: 피셔의 정확검정 (Fisher’s Exact Test)\n",
    "\n",
    "한 소규모 병원에서  \n",
    "`약물 A의 복용 여부`와 `두통 완화 여부` 사이의 관련성을 조사했습니다.  \n",
    "표본 수가 적어서 기대도수가 5 이하인 경우가 존재할 수 있습니다.\n",
    "\n",
    "조사 결과는 다음과 같습니다:\n",
    "\n",
    "|           | 두통 완화됨 | 두통 그대로 |\n",
    "|-----------|--------------|--------------|\n",
    "| 약물 A 복용 |      3       |       1      |\n",
    "| 미복용       |      1       |       3      |\n",
    "\n",
    "이 데이터를 바탕으로,  \n",
    "`약물 복용 여부와 두통 완화 사이에 연관이 있는지`  \n",
    "`유의수준 5%에서 검정`하세요.\n",
    "'''"
   ]
  },
  {
   "cell_type": "code",
   "execution_count": null,
   "id": "218759c6",
   "metadata": {},
   "outputs": [],
   "source": [
    "import numpy as np\n",
    "from scipy import stats\n",
    "\n",
    "table = np.array([\n",
    "    [3, 1],  \n",
    "    [1, 3],  \n",
    "])"
   ]
  },
  {
   "cell_type": "code",
   "execution_count": null,
   "id": "8f1b3c9a",
   "metadata": {},
   "outputs": [],
   "source": [
    "H0 = '약물복용이 두통완화에 영향이 없다.'\n",
    "H1 = '약물복용이 두통완화에 영향이 있다.'"
   ]
  },
  {
   "cell_type": "code",
   "execution_count": null,
   "id": "505500c3",
   "metadata": {},
   "outputs": [],
   "source": [
    "statistic, p_value = stats.fisher_exact(table=table, alternative='less')\n",
    "print(f'statistic : {statistic:.2f}')\n",
    "print(f'p_value : {p_value:.2f}')\n",
    "\n",
    "if p_value < 0.05:\n",
    "    print(H1)\n",
    "else:\n",
    "    print(H0)"
   ]
  },
  {
   "cell_type": "code",
   "execution_count": null,
   "id": "a0785b4d",
   "metadata": {},
   "outputs": [],
   "source": [
    "'''\n",
    "문제: 카이제곱 적합성 검정\n",
    "\n",
    "어떤 도시에서는 요일별 지하철 이용객 수에 대한 `균등한 수요`가 존재한다고 주장하고 있습니다.  \n",
    "이를 검증하기 위해, 최근 한 주간의 `요일별 이용객 수`를 조사한 결과는 다음과 같습니다:\n",
    "\n",
    "| 요일   | 월 | 화 | 수 | 목 | 금 |\n",
    "|--------|----|----|----|----|----|\n",
    "| 이용객 수 | 120 | 130 | 115 | 125 | 110 |\n",
    "\n",
    "이 데이터를 바탕으로,  \n",
    "`요일별 이용객 수가 균등하게 발생한다고 볼 수 있는지`  \n",
    "`유의수준 5%에서 검정`하세요.\n",
    "'''"
   ]
  },
  {
   "cell_type": "code",
   "execution_count": null,
   "id": "d4373b6b",
   "metadata": {},
   "outputs": [],
   "source": [
    "import numpy as np\n",
    "from scipy.stats import chisquare\n",
    "\n",
    "observed = [120, 130, 115, 125, 110]"
   ]
  },
  {
   "cell_type": "code",
   "execution_count": null,
   "id": "32f52e50",
   "metadata": {},
   "outputs": [],
   "source": [
    "H0 = '요일별 이용객 수가 균등하다.'\n",
    "H1 = '요일별 이용객 수가 균등하지 않다.'"
   ]
  },
  {
   "cell_type": "code",
   "execution_count": null,
   "id": "7935c720",
   "metadata": {},
   "outputs": [],
   "source": [
    "expected = [np.mean(observed)] * 5\n",
    "\n",
    "statistic, p_value = chisquare(f_obs=observed, f_exp=expected)\n",
    "print(f'statistic : {statistic:.2f}')\n",
    "print(f'p_value : {p_value:.2f}')\n",
    "\n",
    "if p_value < 0.05:\n",
    "    print(H1)\n",
    "else:\n",
    "    print(H0)"
   ]
  },
  {
   "cell_type": "code",
   "execution_count": null,
   "id": "2a407fe7",
   "metadata": {},
   "outputs": [],
   "source": [
    "'''\n",
    "문제: 카이제곱 적합성 검정 (주말 = 평일의 두 배 수요?)\n",
    "\n",
    "한 커피 전문점은 요일별 방문자 수를 분석한 결과,  \n",
    "`주말(토, 일)의 고객 수가 평일(월~금)의 두 배`라고 주장하고 있습니다.\n",
    "\n",
    "이를 검증하기 위해, `무작위로 1주일간의 고객 수`를 측정했더니 아래와 같았습니다:\n",
    "\n",
    "| 요일   | 월 | 화 | 수 | 목 | 금 | 토 | 일 |\n",
    "|--------|----|----|----|----|----|----|----|\n",
    "| 방문자 수 | 80 | 75 | 90 | 85 | 70 | 200 | 190 |\n",
    "\n",
    "이 데이터를 바탕으로,  \n",
    "`주말 수요가 평일의 두 배라는 주장이 맞는지`,  \n",
    "`유의수준 5%에서 검정`하세요.\n",
    "'''"
   ]
  },
  {
   "cell_type": "code",
   "execution_count": null,
   "id": "bdab3aaf",
   "metadata": {},
   "outputs": [],
   "source": [
    "import numpy as np\n",
    "from scipy.stats import chisquare\n",
    "\n",
    "observed = [80, 75, 90, 85, 70, 200, 190]"
   ]
  },
  {
   "cell_type": "code",
   "execution_count": null,
   "id": "0db8c8d2",
   "metadata": {},
   "outputs": [],
   "source": [
    "H0 = '주말수요가 평일의 두배이다.'\n",
    "H1 = '주말수요가 평일의 두배가 아니다.'"
   ]
  },
  {
   "cell_type": "code",
   "execution_count": null,
   "id": "14aa76ce",
   "metadata": {},
   "outputs": [],
   "source": [
    "observed = np.array([80, 75, 90, 85, 70, 200, 190])\n",
    "weights = np.array([1, 1, 1, 1, 1, 2, 2])\n",
    "expected = (observed.sum() / weights.sum()) * weights\n",
    "\n",
    "statistic, p_value = chisquare(f_obs=observed, f_exp=expected)\n",
    "print(f'statistic : {statistic:.2f}')\n",
    "print(f'p_value : {p_value:.2f}')\n",
    "\n",
    "if p_value < 0.05:\n",
    "    print(H1)\n",
    "else:\n",
    "    print(H0)"
   ]
  },
  {
   "cell_type": "code",
   "execution_count": null,
   "id": "b189e847",
   "metadata": {},
   "outputs": [],
   "source": [
    "'''\n",
    "4 순서 무작위성 및 독립성 검정\n",
    "    4 세 집단 이상 범주형 대응 데이터 검정\n",
    "        - 코크란의 Q 검정 (Cochran's Q Test)\n",
    "            → 3개 이상 이항 반복 측정 대응 자료에 대한 검정\n",
    "\n",
    "문제: 코크란의 Q 검정 (Cochran’s Q test)\n",
    "\n",
    "한 심리학 연구팀은  \n",
    "**세 가지 스트레스 해소법 (A, B, C)** 이  \n",
    "스트레스 감소에 얼마나 효과적인지를 실험하고자 했습니다.  \n",
    "10명의 참가자에게 세 가지 방법을 모두 적용한 뒤,  \n",
    "각 방법에서 **스트레스가 감소했는지(1) 여부만 기록**했습니다.\n",
    "\n",
    "데이터는 다음과 같습니다:\n",
    "\n",
    "| 참가자 | A방법 | B방법 | C방법 |\n",
    "|--------|-------|-------|-------|\n",
    "| 1      | 1     | 1     | 0  \n",
    "| 2      | 0     | 1     | 0  \n",
    "| 3      | 1     | 1     | 1  \n",
    "| 4      | 1     | 0     | 0  \n",
    "| 5      | 0     | 1     | 1  \n",
    "| 6      | 1     | 1     | 0  \n",
    "| 7      | 1     | 0     | 0  \n",
    "| 8      | 1     | 1     | 1  \n",
    "| 9      | 0     | 0     | 1  \n",
    "| 10     | 1     | 0     | 1  \n",
    "'''"
   ]
  },
  {
   "cell_type": "code",
   "execution_count": null,
   "id": "18459565",
   "metadata": {},
   "outputs": [],
   "source": [
    "import numpy as np\n",
    "from statsmodels.stats.contingency_tables import cochrans_q\n",
    "\n",
    "data = np.array([\n",
    "    [1, 1, 0],\n",
    "    [0, 1, 0],\n",
    "    [1, 1, 1],\n",
    "    [1, 0, 0],\n",
    "    [0, 1, 1],\n",
    "    [1, 1, 0],\n",
    "    [1, 0, 0],\n",
    "    [1, 1, 1],\n",
    "    [0, 0, 1],\n",
    "    [1, 0, 1],\n",
    "])"
   ]
  },
  {
   "cell_type": "code",
   "execution_count": null,
   "id": "763302ce",
   "metadata": {},
   "outputs": [],
   "source": [
    "H0 = '세 방법의 스트레스 감소율은 동일하다.'\n",
    "H1 = '적어도 하나의 방법이 다른 방법들과 다르다.'"
   ]
  },
  {
   "cell_type": "code",
   "execution_count": null,
   "id": "ceccc55c",
   "metadata": {},
   "outputs": [],
   "source": [
    "ccq = cochrans_q(data)\n",
    "\n",
    "statistic, p_value = ccq.statistic, ccq.pvalue\n",
    "\n",
    "print(f'statistic : {statistic:.2f}')\n",
    "print(f'p_value : {p_value:.2f}')\n",
    "\n",
    "if p_value < 0.05:\n",
    "    print(H1)\n",
    "else:\n",
    "    print(H0)"
   ]
  }
 ],
 "metadata": {
  "language_info": {
   "name": "python"
  }
 },
 "nbformat": 4,
 "nbformat_minor": 5
}
