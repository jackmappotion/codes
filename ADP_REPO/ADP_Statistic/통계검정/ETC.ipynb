{
 "cells": [
  {
   "cell_type": "code",
   "execution_count": null,
   "id": "ab43607d",
   "metadata": {},
   "outputs": [],
   "source": [
    "'''\n",
    "유효 샘플 수\n",
    "    - 추정 불량률, 오차한계 기반 유효 샘플 수\n",
    "    - 데이터 기반 유효 샘플 수\n",
    "'''"
   ]
  },
  {
   "cell_type": "code",
   "execution_count": null,
   "id": "45d494e9",
   "metadata": {},
   "outputs": [],
   "source": [
    "'''\n",
    "공장에서는 시제품의 농도(%)가 60이라고 주장하며 품질관리팀에서 10개의 샘플을 뽑았다. 유의수준 5%에서 다음을 검정하시오.\n",
    "x = [52, 50, 62, 75, 26, 45, 62, 35, 57, 14]\n",
    "'''\n",
    "\n",
    "import numpy as np\n",
    "from statsmodels.stats.power import TTestPower\n",
    "\n",
    "# 유효한 샘플의 수를 계산하시오.\n",
    "x = [52, 50, 62, 75, 26, 45, 62, 35, 57, 14]\n",
    "\n",
    "mean_x = np.mean(x)\n",
    "var_x = np.var(x, ddof=1)\n",
    "std_x = np.sqrt(var_x)\n",
    "\n",
    "alpha = 0.05\n",
    "\n",
    "# LET 검정령 0.8\n",
    "power = 0.8\n",
    "\n",
    "# 효과크기\n",
    "effect_size = (mean_x - 60) / std_x\n",
    "\n",
    "t_test_power = TTestPower()\n",
    "sample_size = t_test_power.solve_power(effect_size=effect_size, alpha=alpha, power=power, alternative='two-sided')\n",
    "sample_size"
   ]
  },
  {
   "cell_type": "code",
   "execution_count": null,
   "id": "f9a6d88c",
   "metadata": {},
   "outputs": [],
   "source": [
    "'''\n",
    "한 공장에서 생산된 제품에서 최근 추정 불량률은 90% 였다.  오차의 한계가 5% 이하가 되도록하는 최소 표본 사이즈를 구하여라.\n",
    "'''\n",
    "from scipy import stats\n",
    "p = 0.9\n",
    "E = 0.05\n",
    "confidence = 0.95\n",
    "\n",
    "z = stats.norm.ppf(1 - (1 - confidence) / 2)\n",
    "n = (z**2 * p * (1 - p)) / (E**2)\n",
    "n"
   ]
  }
 ],
 "metadata": {
  "language_info": {
   "name": "python"
  }
 },
 "nbformat": 4,
 "nbformat_minor": 5
}
