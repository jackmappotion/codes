{
 "cells": [
  {
   "cell_type": "code",
   "execution_count": 8,
   "id": "b3e0c68a",
   "metadata": {},
   "outputs": [
    {
     "data": {
      "text/html": [
       "<div>\n",
       "<style scoped>\n",
       "    .dataframe tbody tr th:only-of-type {\n",
       "        vertical-align: middle;\n",
       "    }\n",
       "\n",
       "    .dataframe tbody tr th {\n",
       "        vertical-align: top;\n",
       "    }\n",
       "\n",
       "    .dataframe thead th {\n",
       "        text-align: right;\n",
       "    }\n",
       "</style>\n",
       "<table border=\"1\" class=\"dataframe\">\n",
       "  <thead>\n",
       "    <tr style=\"text-align: right;\">\n",
       "      <th></th>\n",
       "      <th>지역1</th>\n",
       "      <th>지역2</th>\n",
       "      <th>지역3</th>\n",
       "      <th>총 생산량</th>\n",
       "    </tr>\n",
       "  </thead>\n",
       "  <tbody>\n",
       "    <tr>\n",
       "      <th>공장A</th>\n",
       "      <td>20</td>\n",
       "      <td>5</td>\n",
       "      <td>35</td>\n",
       "      <td>75.0</td>\n",
       "    </tr>\n",
       "    <tr>\n",
       "      <th>공장B</th>\n",
       "      <td>15</td>\n",
       "      <td>2</td>\n",
       "      <td>20</td>\n",
       "      <td>55.0</td>\n",
       "    </tr>\n",
       "    <tr>\n",
       "      <th>공장C</th>\n",
       "      <td>3</td>\n",
       "      <td>14</td>\n",
       "      <td>17</td>\n",
       "      <td>60.0</td>\n",
       "    </tr>\n",
       "    <tr>\n",
       "      <th>총 수요량</th>\n",
       "      <td>80</td>\n",
       "      <td>50</td>\n",
       "      <td>60</td>\n",
       "      <td>NaN</td>\n",
       "    </tr>\n",
       "  </tbody>\n",
       "</table>\n",
       "</div>"
      ],
      "text/plain": [
       "       지역1  지역2  지역3  총 생산량\n",
       "공장A     20    5   35   75.0\n",
       "공장B     15    2   20   55.0\n",
       "공장C      3   14   17   60.0\n",
       "총 수요량   80   50   60    NaN"
      ]
     },
     "execution_count": 8,
     "metadata": {},
     "output_type": "execute_result"
    }
   ],
   "source": [
    "import numpy as np\n",
    "import pandas as pd\n",
    "from scipy.optimize import linprog\n",
    "\n",
    "df = pd.DataFrame(\n",
    "    [\n",
    "        [20, 5, 35, 75],\n",
    "        [15, 2, 20, 55],\n",
    "        [3, 14, 17, 60],\n",
    "        [80, 50, 60, None],\n",
    "    ],\n",
    "    columns=['지역1', '지역2', '지역3', '총 생산량'],\n",
    "    index=['공장A', '공장B', '공장C', '총 수요량'],\n",
    ")\n",
    "df"
   ]
  },
  {
   "cell_type": "code",
   "execution_count": 9,
   "id": "d41e50c0",
   "metadata": {},
   "outputs": [],
   "source": [
    "# 비용 행렬\n",
    "cost = [\n",
    "    [20, 5, 35],\n",
    "    [15, 2, 20],\n",
    "    [3, 14, 17],\n",
    "]\n",
    "# 목적함수 계수 : 비용 행렬을 1차원으로 변환\n",
    "cost = np.array(cost).flatten()"
   ]
  },
  {
   "cell_type": "code",
   "execution_count": 10,
   "id": "1ba6d373",
   "metadata": {},
   "outputs": [],
   "source": [
    "supply = [75, 55, 60]  # 각 공장별 생산량\n",
    "\n",
    "A_supply = [\n",
    "    [1, 1, 1, 0, 0, 0, 0, 0, 0],  # 공장A\n",
    "    [0, 0, 0, 1, 1, 1, 0, 0, 0],  # 공장B\n",
    "    [0, 0, 0, 0, 0, 0, 1, 1, 1],  # 공장C\n",
    "]"
   ]
  },
  {
   "cell_type": "code",
   "execution_count": 11,
   "id": "88c49f80",
   "metadata": {},
   "outputs": [],
   "source": [
    "demand = [80, 50, 60]  # 각 지역별 수요량\n",
    "\n",
    "A_demand = [\n",
    "    [1, 0, 0, 1, 0, 0, 1, 0, 0],  # 지역1\n",
    "    [0, 1, 0, 0, 1, 0, 0, 1, 0],  # 지역2\n",
    "    [0, 0, 1, 0, 0, 1, 0, 0, 1],  # 지역3\n",
    "]"
   ]
  },
  {
   "cell_type": "code",
   "execution_count": 12,
   "id": "04eadd76",
   "metadata": {},
   "outputs": [],
   "source": [
    "A_eq = np.array(A_supply + A_demand)\n",
    "b_eq = np.array(supply + demand)\n",
    "\n",
    "bounds = [(0, None)] * len(cost)"
   ]
  },
  {
   "cell_type": "code",
   "execution_count": 17,
   "id": "52af7cec",
   "metadata": {},
   "outputs": [
    {
     "name": "stdout",
     "output_type": "stream",
     "text": [
      "[[25. 50.  0.]\n",
      " [ 0.  0. 55.]\n",
      " [55.  0.  5.]]\n",
      "2100.0\n"
     ]
    }
   ],
   "source": [
    "reg = linprog(\n",
    "    c=cost,\n",
    "    A_eq=A_eq,\n",
    "    b_eq=b_eq,\n",
    "    bounds=bounds,\n",
    "    method='highs',\n",
    ")\n",
    "print(reg.x.reshape(3, 3))\n",
    "print(reg.fun)"
   ]
  },
  {
   "cell_type": "code",
   "execution_count": null,
   "id": "092882a4",
   "metadata": {},
   "outputs": [],
   "source": []
  }
 ],
 "metadata": {
  "kernelspec": {
   "display_name": "general",
   "language": "python",
   "name": "python3"
  },
  "language_info": {
   "codemirror_mode": {
    "name": "ipython",
    "version": 3
   },
   "file_extension": ".py",
   "mimetype": "text/x-python",
   "name": "python",
   "nbconvert_exporter": "python",
   "pygments_lexer": "ipython3",
   "version": "3.11.5"
  }
 },
 "nbformat": 4,
 "nbformat_minor": 5
}
