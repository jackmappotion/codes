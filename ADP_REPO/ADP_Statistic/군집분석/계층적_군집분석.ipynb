{
 "cells": [
  {
   "cell_type": "code",
   "execution_count": null,
   "id": "dfdc40ef",
   "metadata": {},
   "outputs": [],
   "source": [
    "'''\n",
    "계층적 군집분석\n",
    "'''"
   ]
  },
  {
   "cell_type": "code",
   "execution_count": null,
   "id": "1cb6fe79",
   "metadata": {},
   "outputs": [],
   "source": [
    "import pandas as pd\n",
    "from sklearn.datasets import load_iris\n",
    "from sklearn.preprocessing import StandardScaler\n",
    "\n",
    "iris = load_iris()\n",
    "iris_df = pd.DataFrame(data=iris.data, columns=iris.feature_names)\n",
    "iris_df['target'] = iris.target\n",
    "\n",
    "replace_cm = lambda x : x.replace('(cm)', '')\n",
    "replace_blank = lambda x : x.replace(' ', '_')\n",
    "relplace_columns = lambda x : replace_blank(replace_cm(x))\n",
    "iris_df.columns = [relplace_columns(col) for col in iris_df.columns]\n",
    "\n",
    "\n",
    "X = iris_df.drop(columns='target')\n",
    "y = iris_df['target']\n",
    "\n",
    "scaler = StandardScaler()\n",
    "X_scaled = pd.DataFrame(scaler.fit_transform(X), columns=X.columns)"
   ]
  },
  {
   "cell_type": "code",
   "execution_count": 2,
   "id": "aff509ad",
   "metadata": {},
   "outputs": [],
   "source": [
    "from scipy.cluster.hierarchy import dendrogram, linkage, cut_tree\n",
    "\n",
    "# Methods : \n",
    "    # 'ward' : 와드연결법, \n",
    "    # 'single' : 최단연결법, \n",
    "    # 'complete' : 최장연결법, \n",
    "    # 'average' : 평균연결법,    \n",
    "    # 'centroid' : 중심연결법, \n",
    "# Metric :\n",
    "    # 'euclidean': 유클리드 거리\n",
    "    # 'cityblock' : 맨하탄 거리\n",
    "    # 'cosine' : 코사인 거리\n",
    "    # 'correlation' : 상관계수 거리\n",
    "\n",
    "Z = linkage(X_scaled, method='complete', metric='euclidean')"
   ]
  },
  {
   "cell_type": "code",
   "execution_count": 3,
   "id": "2c2424d2",
   "metadata": {},
   "outputs": [
    {
     "data": {
      "image/png": "[encoded data removed]",
      "text/plain": [
       "<Figure size 1000x500 with 1 Axes>"
      ]
     },
     "metadata": {},
     "output_type": "display_data"
    }
   ],
   "source": [
    "import matplotlib.pyplot as plt\n",
    "\n",
    "Z = linkage(X_scaled, method='complete', metric='euclidean')\n",
    "\n",
    "\n",
    "distance_setting = 2\n",
    "\n",
    "fig, ax = plt.subplots(figsize=(10, 5))\n",
    "dendrogram(Z, labels=iris_df.index, color_threshold=distance_setting, ax=ax, no_labels=True)\n",
    "ax.axhline(y=distance_setting, linestyle='dashed', color='red')\n",
    "plt.show()"
   ]
  },
  {
   "cell_type": "code",
   "execution_count": null,
   "id": "85db4019",
   "metadata": {},
   "outputs": [
    {
     "name": "stdout",
     "output_type": "stream",
     "text": [
      "실루엣 계수 : 0.44961848359884726\n",
      "완전성 : 0.6848895823958637\n",
      "V-측정 점수: 0.6530481596015469\n"
     ]
    }
   ],
   "source": [
    "# 클러스터링 평가 \n",
    "# 1. 실루엣 계수\n",
    "# 2. 완전성 \n",
    "# 3. V-Measure\n",
    "from sklearn.metrics import silhouette_score, completeness_score, v_measure_score\n",
    "\n",
    "n_cluster = 3\n",
    "\n",
    "Z = linkage(X_scaled, method='complete', metric='euclidean')\n",
    "hierarchical_clustering_result = cut_tree(Z, n_clusters=n_cluster).flatten()\n",
    "\n",
    "silhouette = silhouette_score(X_scaled, hierarchical_clustering_result)\n",
    "completeness = completeness_score(y, hierarchical_clustering_result)\n",
    "v_measure = v_measure_score(y, hierarchical_clustering_result)\n",
    "\n",
    "'''\n",
    "- 0.7 이상: 매우 잘 된 클러스터링\n",
    "- 0.5 이상: 군집화가 꽤 잘 되어 있다고 봅니다.\n",
    "- 0.25~0.5: 군집화가 보통 수준\n",
    "- 0.25 이하: 군집화가 좋지 않음\n",
    "'''\n",
    "print(f'실루엣 계수 : {silhouette}')\n",
    "\n",
    "'''\n",
    "- 0.8 이상: 거의 완전한 군집화\n",
    "- 0.5~0.8: 의미 있는 군집화 가능성\n",
    "- 0.5 이하: 노이즈 많거나 레이블과 군집 불일치 가능성\n",
    "'''\n",
    "print(f'완전성 : {completeness}')\n",
    "\n",
    "'''\n",
    "- 0.90 ~ 1.00\t거의 완벽한 클러스터링. 실제 레이블과 매우 잘 일치함\n",
    "- 0.75 ~ 0.90\t꽤 잘 된 클러스터링. 실전에서도 좋은 성능으로 인정받음\n",
    "- 0.50 ~ 0.75\t보통 수준. 일부 클러스터는 잘 맞지만 전체적으로는 개선 여지 있음\n",
    "- 0.30 ~ 0.50\t낮은 성능. 실제 레이블과의 불일치가 많음\n",
    "- 0.00 ~ 0.30\t클러스터링 품질이 거의 없음. 무작위에 가까움\n",
    "'''\n",
    "print('V-측정 점수:', v_measure_score(y, hierarchical_clustering_result))"
   ]
  },
  {
   "cell_type": "code",
   "execution_count": null,
   "id": "e86d035a",
   "metadata": {},
   "outputs": [],
   "source": []
  }
 ],
 "metadata": {
  "kernelspec": {
   "display_name": "general",
   "language": "python",
   "name": "python3"
  },
  "language_info": {
   "codemirror_mode": {
    "name": "ipython",
    "version": 3
   },
   "file_extension": ".py",
   "mimetype": "text/x-python",
   "name": "python",
   "nbconvert_exporter": "python",
   "pygments_lexer": "ipython3",
   "version": "3.11.5"
  }
 },
 "nbformat": 4,
 "nbformat_minor": 5
}
