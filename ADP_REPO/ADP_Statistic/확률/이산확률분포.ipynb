{
 "cells": [
  {
   "cell_type": "code",
   "execution_count": null,
   "metadata": {},
   "outputs": [],
   "source": [
    "'''\n",
    "이산확률분포\n",
    "'''"
   ]
  },
  {
   "cell_type": "code",
   "execution_count": null,
   "metadata": {},
   "outputs": [],
   "source": [
    "# 문제  [이항분포]  \n",
    "\n",
    "\n",
    "# 한 공장에서 생산되는 제품은 품질 검사에서 평균적으로 **5%의 불량률**을 보입니다. 이 공장에서 무작위로 **20개의 제품**을 뽑아 검사했을 때,\n",
    "\n",
    "# 1. **불량품이 정확히 2개 나올 확률**은 얼마인가요?  \n",
    "# 2. **불량품이 2개 이하로 나올 확률**은 얼마인가요?  \n",
    "# 3. **불량품이 최소 1개 이상 나올 확률**은 얼마인가요?"
   ]
  },
  {
   "cell_type": "code",
   "execution_count": 1,
   "metadata": {},
   "outputs": [],
   "source": [
    "from scipy import stats\n",
    "n = 20\n",
    "p = 0.05"
   ]
  },
  {
   "cell_type": "code",
   "execution_count": 2,
   "metadata": {},
   "outputs": [
    {
     "data": {
      "text/plain": [
       "0.1886768012676542"
      ]
     },
     "execution_count": 2,
     "metadata": {},
     "output_type": "execute_result"
    }
   ],
   "source": [
    "# 1. 불량품이 정확히 2개 나올 확률은 얼마인가요?\n",
    "ans_1 = stats.binom.pmf(2, n, p)\n",
    "ans_1"
   ]
  },
  {
   "cell_type": "code",
   "execution_count": 3,
   "metadata": {},
   "outputs": [
    {
     "data": {
      "text/plain": [
       "0.9245163262115037"
      ]
     },
     "execution_count": 3,
     "metadata": {},
     "output_type": "execute_result"
    }
   ],
   "source": [
    "# 2. 불량품이 2개 이하로 나올 확률은 얼마인가요?\n",
    "ans_2 = stats.binom.cdf(2, n, p)\n",
    "ans_2"
   ]
  },
  {
   "cell_type": "code",
   "execution_count": 4,
   "metadata": {},
   "outputs": [
    {
     "data": {
      "text/plain": [
       "0.6415140775914577"
      ]
     },
     "execution_count": 4,
     "metadata": {},
     "output_type": "execute_result"
    }
   ],
   "source": [
    "# 3. 불량품이 최소 1개 이상 나올 확률은 얼마인가요?\n",
    "ans_3 = 1 - stats.binom.cdf(0, n, p)\n",
    "ans_3"
   ]
  },
  {
   "cell_type": "code",
   "execution_count": null,
   "metadata": {},
   "outputs": [],
   "source": [
    "# 문제 [음이항분포]\n",
    "\n",
    "# 한 게임 회사에서 출시한 뽑기 게임은 아이템이 나올 확률이 **10%**입니다. 어떤 유저가 **아이템을 3개 뽑을 때까지** 계속 뽑기를 시도한다고 할 때,\n",
    "\n",
    "# 1. **7번째 뽑기에서 3번째 아이템이 나올 확률**은 얼마인가요?  \n",
    "# 2. **최대 7번의 뽑기 안에 3개의 아이템이 나올 확률**은 얼마인가요?"
   ]
  },
  {
   "cell_type": "code",
   "execution_count": 5,
   "metadata": {},
   "outputs": [],
   "source": [
    "from scipy import stats\n",
    "\n",
    "p = 0.1\n",
    "r = 3"
   ]
  },
  {
   "cell_type": "code",
   "execution_count": 6,
   "metadata": {},
   "outputs": [
    {
     "data": {
      "text/plain": [
       "0.009841500000000013"
      ]
     },
     "execution_count": 6,
     "metadata": {},
     "output_type": "execute_result"
    }
   ],
   "source": [
    "# 1. 7번째 뽑기에서 3번째 아이템이 나올 확률은 얼마인가요?\n",
    "k = 7\n",
    "ans_1 = stats.nbinom.pmf(k - r, r, p)\n",
    "ans_1"
   ]
  },
  {
   "cell_type": "code",
   "execution_count": 7,
   "metadata": {},
   "outputs": [
    {
     "data": {
      "text/plain": [
       "0.025691500000000006"
      ]
     },
     "execution_count": 7,
     "metadata": {},
     "output_type": "execute_result"
    }
   ],
   "source": [
    "# 2. 최대 7번의 뽑기 안에 3개의 아이템이 나올 확률은 얼마인가요?\n",
    "k = 7\n",
    "ans_2 = stats.nbinom.cdf(k - r, r, p)\n",
    "ans_2"
   ]
  },
  {
   "cell_type": "code",
   "execution_count": null,
   "metadata": {},
   "outputs": [],
   "source": [
    "# 문제 [기하분포]\n",
    "\n",
    "# 한 취준생이 어떤 회사의 코딩 테스트에 지원했을 때, 통과 확률은 **20%**입니다.  \n",
    "# 이 지원자가 **언젠가 붙을 때까지 계속 지원한다고 할 때**,\n",
    "\n",
    "# 1. **3번째 지원에서 처음으로 통과할 확률**은 얼마인가요?  \n",
    "# 2. **3번 이하로 통과할 확률**은 얼마인가요?  \n",
    "# 3. **최소 1번 이상 지원해서 통과할 확률**은 얼마인가요?"
   ]
  },
  {
   "cell_type": "code",
   "execution_count": 8,
   "metadata": {},
   "outputs": [],
   "source": [
    "from scipy import stats\n",
    "p = 0.2"
   ]
  },
  {
   "cell_type": "code",
   "execution_count": 9,
   "metadata": {},
   "outputs": [
    {
     "data": {
      "text/plain": [
       "0.12800000000000003"
      ]
     },
     "execution_count": 9,
     "metadata": {},
     "output_type": "execute_result"
    }
   ],
   "source": [
    "# 1. 3번째 지원에서 처음으로 통과할 확률은 얼마인가요?  \n",
    "ans_1 = stats.geom.pmf(3, p)\n",
    "ans_1"
   ]
  },
  {
   "cell_type": "code",
   "execution_count": 10,
   "metadata": {},
   "outputs": [
    {
     "data": {
      "text/plain": [
       "0.48800000000000004"
      ]
     },
     "execution_count": 10,
     "metadata": {},
     "output_type": "execute_result"
    }
   ],
   "source": [
    "# 2. 3번 이하로 통과할 확률은 얼마인가요?\n",
    "ans_2 = stats.geom.cdf(3, p)\n",
    "ans_2"
   ]
  },
  {
   "cell_type": "code",
   "execution_count": 11,
   "metadata": {},
   "outputs": [
    {
     "data": {
      "text/plain": [
       "1.0"
      ]
     },
     "execution_count": 11,
     "metadata": {},
     "output_type": "execute_result"
    }
   ],
   "source": [
    "# 3. 최소 1번 이상 지원해서 통과할 확률은 얼마인가요?\n",
    "ans_3 = 1 - stats.geom.cdf(0, p)\n",
    "ans_3"
   ]
  },
  {
   "cell_type": "code",
   "execution_count": null,
   "metadata": {},
   "outputs": [],
   "source": [
    "# 문제 [초기하분포]\n",
    "\n",
    "# 한 반에 총 **30명**의 학생이 있습니다.  \n",
    "# 이 중에 **10명은 과학 동아리 소속**, 나머지 **20명은 비소속**입니다.  \n",
    "# 이 반에서 **무작위로 5명을 뽑았을 때**,  \n",
    "\n",
    "# 1. **과학 동아리 학생이 정확히 2명 포함될 확률**은 얼마인가요?  \n",
    "# 2. **과학 동아리 학생이 2명 이상 포함될 확률**은 얼마인가요?  \n",
    "# 3. **과학 동아리 학생이 1명도 포함되지 않을 확률**은 얼마인가요?"
   ]
  },
  {
   "cell_type": "code",
   "execution_count": 12,
   "metadata": {},
   "outputs": [],
   "source": [
    "from scipy import stats\n",
    "N = 30\n",
    "k = 10\n",
    "n = 5"
   ]
  },
  {
   "cell_type": "code",
   "execution_count": 13,
   "metadata": {},
   "outputs": [
    {
     "data": {
      "text/plain": [
       "0.3599848427434634"
      ]
     },
     "execution_count": 13,
     "metadata": {},
     "output_type": "execute_result"
    }
   ],
   "source": [
    "# 1. 과학 동아리 학생이 정확히 2명 포함될 확률은 얼마인가요?\n",
    "ans_1 = stats.hypergeom.pmf(2, N, k, n)\n",
    "ans_1 "
   ]
  },
  {
   "cell_type": "code",
   "execution_count": 14,
   "metadata": {},
   "outputs": [
    {
     "data": {
      "text/plain": [
       "0.5512188960464823"
      ]
     },
     "execution_count": 14,
     "metadata": {},
     "output_type": "execute_result"
    }
   ],
   "source": [
    "# 2. 과학 동아리 학생이 2명 이상 포함될 확률은 얼마인가요?\n",
    "ans_2 = 1 - stats.hypergeom.cdf(1, N, k, n)\n",
    "ans_2"
   ]
  },
  {
   "cell_type": "code",
   "execution_count": 15,
   "metadata": {},
   "outputs": [
    {
     "data": {
      "text/plain": [
       "0.10879541914024672"
      ]
     },
     "execution_count": 15,
     "metadata": {},
     "output_type": "execute_result"
    }
   ],
   "source": [
    "# 3. 과학 동아리 학생이 1명도 포함되지 않을 확률은 얼마인가요?\n",
    "ans_3 = stats.hypergeom.cdf(0, N, k, n)\n",
    "ans_3"
   ]
  },
  {
   "cell_type": "code",
   "execution_count": null,
   "metadata": {},
   "outputs": [],
   "source": [
    "# 문제[포아송 분포]\n",
    "\n",
    "# 어떤 콜센터에는 평균적으로 **1시간당 6통의 전화**가 걸려옵니다.  \n",
    "# 이 콜센터에 대해 다음을 구하세요:\n",
    "\n",
    "# 1. **1시간 동안 정확히 4통의 전화**가 걸려올 확률은 얼마인가요?  \n",
    "# 2. **1시간 동안 4통 이하의 전화**가 걸려올 확률은 얼마인가요?  \n",
    "# 3. **1시간 동안 최소 1통 이상의 전화**가 걸려올 확률은 얼마인가요?"
   ]
  },
  {
   "cell_type": "code",
   "execution_count": 16,
   "metadata": {},
   "outputs": [],
   "source": [
    "from scipy import stats\n",
    "lam = 6"
   ]
  },
  {
   "cell_type": "code",
   "execution_count": 17,
   "metadata": {},
   "outputs": [
    {
     "data": {
      "text/plain": [
       "0.13385261753998332"
      ]
     },
     "execution_count": 17,
     "metadata": {},
     "output_type": "execute_result"
    }
   ],
   "source": [
    "# 1. 1시간 동안 정확히 4통의 전화가 걸려올 확률은 얼마인가요?\n",
    "ans_1 = stats.poisson.pmf(4, lam)\n",
    "ans_1"
   ]
  },
  {
   "cell_type": "code",
   "execution_count": 18,
   "metadata": {},
   "outputs": [
    {
     "data": {
      "text/plain": [
       "0.28505650031663116"
      ]
     },
     "execution_count": 18,
     "metadata": {},
     "output_type": "execute_result"
    }
   ],
   "source": [
    "# 2. 1시간 동안 4통 이하의 전화가 걸려올 확률은 얼마인가요?  \n",
    "ans_2 = stats.poisson.cdf(4, lam)\n",
    "ans_2"
   ]
  },
  {
   "cell_type": "code",
   "execution_count": 19,
   "metadata": {},
   "outputs": [
    {
     "data": {
      "text/plain": [
       "0.9975212478233336"
      ]
     },
     "execution_count": 19,
     "metadata": {},
     "output_type": "execute_result"
    }
   ],
   "source": [
    "# 3. 1시간 동안 최소 1통 이상의 전화가 걸려올 확률은 얼마인가요?\n",
    "ans_3 = 1 - stats.poisson.cdf(0, lam)\n",
    "ans_3"
   ]
  }
 ],
 "metadata": {
  "kernelspec": {
   "display_name": "general",
   "language": "python",
   "name": "python3"
  },
  "language_info": {
   "codemirror_mode": {
    "name": "ipython",
    "version": 3
   },
   "file_extension": ".py",
   "mimetype": "text/x-python",
   "name": "python",
   "nbconvert_exporter": "python",
   "pygments_lexer": "ipython3",
   "version": "3.11.5"
  }
 },
 "nbformat": 4,
 "nbformat_minor": 2
}
