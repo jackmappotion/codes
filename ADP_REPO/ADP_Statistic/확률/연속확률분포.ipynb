{
 "cells": [
  {
   "cell_type": "code",
   "execution_count": null,
   "metadata": {},
   "outputs": [],
   "source": [
    "'''\n",
    "연속확률분포\n",
    "'''"
   ]
  },
  {
   "cell_type": "code",
   "execution_count": null,
   "metadata": {},
   "outputs": [],
   "source": [
    "# 문제[확률] - 균일 분포\n",
    "\n",
    "# 어떤 시험의 점수는 **50점 이상 100점 이하** 사이에서 **균일하게 분포**한다고 가정합니다.  \n",
    "# 이 시험에서 무작위로 학생 하나를 뽑았을 때,\n",
    "\n",
    "# 1. **80점 이상일 확률은 얼마인가요?**  \n",
    "# 2. **60점 이상 90점 이하일 확률은 얼마인가요?**  \n",
    "# 3. **최대 점수(100점)를 받을 확률은 얼마인가요?**"
   ]
  },
  {
   "cell_type": "code",
   "execution_count": 1,
   "metadata": {},
   "outputs": [],
   "source": [
    "from scipy import stats\n",
    "lower = 50\n",
    "upper = 100"
   ]
  },
  {
   "cell_type": "code",
   "execution_count": 2,
   "metadata": {},
   "outputs": [
    {
     "data": {
      "text/plain": [
       "0.7"
      ]
     },
     "execution_count": 2,
     "metadata": {},
     "output_type": "execute_result"
    }
   ],
   "source": [
    "# 1. 80점 이상일 확률은 얼마인가요?\n",
    "ans_1 = 1 - stats.uniform.cdf(80, lower, upper)\n",
    "ans_1"
   ]
  },
  {
   "cell_type": "code",
   "execution_count": 3,
   "metadata": {},
   "outputs": [
    {
     "data": {
      "text/plain": [
       "0.30000000000000004"
      ]
     },
     "execution_count": 3,
     "metadata": {},
     "output_type": "execute_result"
    }
   ],
   "source": [
    "# 2. 60점 이상 90점 이하일 확률은 얼마인가요?\n",
    "ans_2 = stats.uniform.cdf(90, lower, upper) - stats.uniform.cdf(60, lower, upper)\n",
    "ans_2"
   ]
  },
  {
   "cell_type": "code",
   "execution_count": 4,
   "metadata": {},
   "outputs": [
    {
     "data": {
      "text/plain": [
       "0"
      ]
     },
     "execution_count": 4,
     "metadata": {},
     "output_type": "execute_result"
    }
   ],
   "source": [
    "# 3. 최대 점수(100점)를 받을 확률은 얼마인가요?\n",
    "# 확률밀도함수의 특정 값이 나올 확률은 0\n",
    "ans_3 = 0\n",
    "ans_3"
   ]
  },
  {
   "cell_type": "code",
   "execution_count": null,
   "metadata": {},
   "outputs": [],
   "source": [
    "# 문제[확률] - 지수 분포\n",
    "\n",
    "# 어떤 무인 커피머신에 손님이 도착하는 시간 간격은 평균적으로 10분이라고 합니다.  \n",
    "# 이 손님 도착 시간 간격은 지수분포를 따른다고 가정할 때,\n",
    "\n",
    "# 1. 다음 손님이 5분 이내에 도착할 확률은 얼마인가요?  \n",
    "# 2. 다음 손님이 15분 이상 지나서 도착할 확률은 얼마인가요?  \n",
    "# 3. 다음 손님이 5분에서 15분 사이에 도착할 확률은 얼마인가요?"
   ]
  },
  {
   "cell_type": "code",
   "execution_count": 5,
   "metadata": {},
   "outputs": [],
   "source": [
    "from scipy import stats\n",
    "lam = 10"
   ]
  },
  {
   "cell_type": "code",
   "execution_count": 6,
   "metadata": {},
   "outputs": [
    {
     "data": {
      "text/plain": [
       "0.3934693402873666"
      ]
     },
     "execution_count": 6,
     "metadata": {},
     "output_type": "execute_result"
    }
   ],
   "source": [
    "# 1. 다음 손님이 5분 이내에 도착할 확률은 얼마인가요?\n",
    "ans_1 = stats.expon.cdf(5, scale=lam)\n",
    "ans_1"
   ]
  },
  {
   "cell_type": "code",
   "execution_count": 7,
   "metadata": {},
   "outputs": [
    {
     "data": {
      "text/plain": [
       "0.2231301601484298"
      ]
     },
     "execution_count": 7,
     "metadata": {},
     "output_type": "execute_result"
    }
   ],
   "source": [
    "# 2. 다음 손님이 15분 이상 지나서 도착할 확률은 얼마인가요?\n",
    "ans_2 = 1 - stats.expon.cdf(15, scale=lam)\n",
    "ans_2"
   ]
  },
  {
   "cell_type": "code",
   "execution_count": 8,
   "metadata": {},
   "outputs": [
    {
     "data": {
      "text/plain": [
       "0.38340049956420363"
      ]
     },
     "execution_count": 8,
     "metadata": {},
     "output_type": "execute_result"
    }
   ],
   "source": [
    "# 3. 다음 손님이 5분에서 15분 사이에 도착할 확률은 얼마인가요?\n",
    "ans_3 = stats.expon.cdf(15, scale=lam) - stats.expon.cdf(5, scale=lam)\n",
    "ans_3"
   ]
  },
  {
   "cell_type": "code",
   "execution_count": null,
   "metadata": {},
   "outputs": [],
   "source": [
    "# 문제[확률] - 감마 분포\n",
    "\n",
    "# 한 공항에서는 수하물 검색기를 운영하고 있습니다.  \n",
    "# 기계는 **한 번 작동 후, 내부 부품이 고장나면 멈추게 되며**,  \n",
    "# 이 고장은 보통 **한 부품이 평균적으로 8시간마다 고장**나는 것으로 알려져 있습니다.\n",
    "\n",
    "# 기계 내부에는 총 **4개의 부품**이 있으며, 이 부품들은 **서로 독립적으로** 고장나고,  \n",
    "# **모든 부품이 고장났을 때**에만 기계가 작동을 멈춘다고 할 때,\n",
    "\n",
    "# #### 문제:\n",
    "\n",
    "# 1. **이 기계가 20시간 이내에 멈출 확률**은 얼마인가요?  \n",
    "# 2. **이 기계가 최소 30시간 이상 버틸 확률**은 얼마인가요?  \n",
    "# 3. **기계가 20시간 이상 30시간 이하에 고장날 확률**은 얼마인가요?"
   ]
  },
  {
   "cell_type": "code",
   "execution_count": 9,
   "metadata": {},
   "outputs": [],
   "source": [
    "from scipy import stats\n",
    "a = 4\n",
    "b = 8"
   ]
  },
  {
   "cell_type": "code",
   "execution_count": 10,
   "metadata": {},
   "outputs": [
    {
     "data": {
      "text/plain": [
       "0.2424238668669339"
      ]
     },
     "execution_count": 10,
     "metadata": {},
     "output_type": "execute_result"
    }
   ],
   "source": [
    "# 1. 이 기계가 20시간 이내에 멈출 확률은 얼마인가요?\n",
    "ans_1 = stats.gamma.cdf(20, a=a, scale=b)\n",
    "ans_1"
   ]
  },
  {
   "cell_type": "code",
   "execution_count": 11,
   "metadata": {},
   "outputs": [
    {
     "data": {
      "text/plain": [
       "0.4837673815536875"
      ]
     },
     "execution_count": 11,
     "metadata": {},
     "output_type": "execute_result"
    }
   ],
   "source": [
    "# 2. 이 기계가 최소 30시간 이상 버틸 확률은 얼마인가요?\n",
    "ans_2 = 1 - stats.gamma.cdf(30, a=a, scale=b)\n",
    "ans_2"
   ]
  },
  {
   "cell_type": "code",
   "execution_count": 12,
   "metadata": {},
   "outputs": [
    {
     "data": {
      "text/plain": [
       "0.2738087515793786"
      ]
     },
     "execution_count": 12,
     "metadata": {},
     "output_type": "execute_result"
    }
   ],
   "source": [
    "# 3. 기계가 20시간 이상 30시간 이하에 고장날 확률은 얼마인가요?\n",
    "ans_3 = stats.gamma.cdf(30, a=a, scale=b) - stats.gamma.cdf(20, a=a, scale=b)\n",
    "ans_3"
   ]
  },
  {
   "cell_type": "code",
   "execution_count": null,
   "metadata": {},
   "outputs": [],
   "source": [
    "# 문제[확률] - 정규분포\n",
    "\n",
    "# 한 택배 회사의 배송 시간은 **평균 48시간**, **표준편차 6시간**인 정규분포를 따른다고 합니다.  \n",
    "# 임의의 한 배송 건을 추적할 때,\n",
    "\n",
    "# 1. **배송이 50시간 이하일 확률은 얼마인가요?**  \n",
    "# 2. **배송이 45시간 이상 걸릴 확률은 얼마인가요?**  \n",
    "# 3. **배송이 40시간 이상 52시간 이하일 확률은 얼마인가요?**"
   ]
  },
  {
   "cell_type": "code",
   "execution_count": 13,
   "metadata": {},
   "outputs": [],
   "source": [
    "from scipy import stats\n",
    "mu = 48\n",
    "sigma = 6"
   ]
  },
  {
   "cell_type": "code",
   "execution_count": 14,
   "metadata": {},
   "outputs": [
    {
     "data": {
      "text/plain": [
       "0.6305586598182363"
      ]
     },
     "execution_count": 14,
     "metadata": {},
     "output_type": "execute_result"
    }
   ],
   "source": [
    "# 1. 배송이 50시간 이하일 확률은 얼마인가요?\n",
    "ans_1 = stats.norm.cdf(50, mu, sigma)\n",
    "ans_1"
   ]
  },
  {
   "cell_type": "code",
   "execution_count": 15,
   "metadata": {},
   "outputs": [
    {
     "data": {
      "text/plain": [
       "0.6914624612740131"
      ]
     },
     "execution_count": 15,
     "metadata": {},
     "output_type": "execute_result"
    }
   ],
   "source": [
    "# 2. 배송이 45시간 이상 걸릴 확률은 얼마인가요?\n",
    "ans_2 = 1 - stats.norm.cdf(45, mu, sigma)\n",
    "ans_2"
   ]
  },
  {
   "cell_type": "code",
   "execution_count": 16,
   "metadata": {},
   "outputs": [
    {
     "data": {
      "text/plain": [
       "0.6562962427272092"
      ]
     },
     "execution_count": 16,
     "metadata": {},
     "output_type": "execute_result"
    }
   ],
   "source": [
    "# 3. 배송이 40시간 이상 52시간 이하일 확률은 얼마인가요?\n",
    "ans_3 = stats.norm.cdf(52, mu, sigma) - stats.norm.cdf(40, mu, sigma)\n",
    "ans_3"
   ]
  },
  {
   "cell_type": "code",
   "execution_count": null,
   "metadata": {},
   "outputs": [],
   "source": []
  }
 ],
 "metadata": {
  "kernelspec": {
   "display_name": "general",
   "language": "python",
   "name": "python3"
  },
  "language_info": {
   "codemirror_mode": {
    "name": "ipython",
    "version": 3
   },
   "file_extension": ".py",
   "mimetype": "text/x-python",
   "name": "python",
   "nbconvert_exporter": "python",
   "pygments_lexer": "ipython3",
   "version": "3.11.5"
  }
 },
 "nbformat": 4,
 "nbformat_minor": 2
}
