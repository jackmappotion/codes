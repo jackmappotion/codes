{
 "cells": [
  {
   "cell_type": "code",
   "execution_count": null,
   "id": "3f9916c4",
   "metadata": {},
   "outputs": [],
   "source": [
    "'''\n",
    "데이터설명\n",
    "    데이터 출처 : 캐글어딘가.. 후처리\n",
    "    데이터 링크 : ./../data/adp/30/p1.csv\n",
    "    데이터 설명 : 혈압 데이터 DBP\n",
    "\n",
    "종속변수 : DBP\n",
    "'''\n",
    "import pandas as pd\n",
    "raw_df = pd.read_csv(get_dataset_url('\1'))
\n",
    "raw_df.head()"
   ]
  },
  {
   "cell_type": "code",
   "execution_count": null,
   "id": "f23e1f4b",
   "metadata": {},
   "outputs": [],
   "source": [
    "# 1-1 EDA를 시행하라"
   ]
  },
  {
   "cell_type": "code",
   "execution_count": null,
   "id": "35bfb610",
   "metadata": {},
   "outputs": [],
   "source": [
    "# 1-2 데이터 전처리가 필요하다면 수행하고 이유를 작성하라"
   ]
  },
  {
   "cell_type": "code",
   "execution_count": null,
   "id": "40ec8712",
   "metadata": {},
   "outputs": [],
   "source": [
    "# 1-3 train test set을 DBP컬럼 기준으로 7:3 비율로 나누고 잘 나뉘었는지 통계적으로 나타내라"
   ]
  },
  {
   "cell_type": "code",
   "execution_count": null,
   "id": "b3219cd1",
   "metadata": {},
   "outputs": [],
   "source": [
    "# 2-1 독립변수의 차원축소의 필요성을 논하고, 필요에 따라 차원을 축소하고 불필요하다면 그 근거를 논하시오"
   ]
  },
  {
   "cell_type": "code",
   "execution_count": null,
   "id": "1438fd2f",
   "metadata": {},
   "outputs": [],
   "source": [
    "# 2-1 작업 후 데이터가 회귀분석의 기본가정 따르는지 설명"
   ]
  },
  {
   "cell_type": "code",
   "execution_count": null,
   "id": "50d41e17",
   "metadata": {},
   "outputs": [],
   "source": [
    "# 3-1 회귀분석 알고리즘 3개를 선택하고 선정이유와 장단점 비교"
   ]
  },
  {
   "cell_type": "code",
   "execution_count": null,
   "id": "0f26e4a2",
   "metadata": {},
   "outputs": [],
   "source": [
    "# 3-2 1-3에서 구분한 데이터를 기준으로 3개의 회귀 분석 모델링을 진행하고 평가지표 rmse로 가장 최적화된 알고리즘 선정"
   ]
  },
  {
   "cell_type": "code",
   "execution_count": null,
   "id": "a309079b",
   "metadata": {},
   "outputs": [],
   "source": [
    "# 3-3 3-2에서 가장 성능 좋은 알고리즘을 이용하여 K-Fold 교차검증을 수행하시오"
   ]
  },
  {
   "cell_type": "code",
   "execution_count": null,
   "id": "eb11dc29",
   "metadata": {},
   "outputs": [],
   "source": [
    "'''\n",
    "데이터 분석\n",
    "    데이터 출처 : https://taas.koroad.or.kr/api/selectOpenApi.do 후처리\n",
    "    데이터 링크 : ./../data/adp/30/p2_v2.csv\n",
    "    데이터 설명 : 자전거사고 다발지역 개별사고 정보\n",
    "    대상사고 : 해당 1년간 발생한 가해 또는 피해차종이 자전거인 교통사고\n",
    "    다발지역 선정조건 : 반경 300m 내 대상사고 4건이상 발생지역\n",
    "\n",
    "종속 변수 : 피해자신체상해정도\n",
    "'''\n",
    "raw_df = pd.read_csv(get_dataset_url('\1'))
\n",
    "raw_df.head()"
   ]
  },
  {
   "cell_type": "code",
   "execution_count": null,
   "id": "2ec201fd",
   "metadata": {},
   "outputs": [],
   "source": [
    "# 4-1 발생시각을 통해 평일인지 주말인지를 구분하는 ‘주말여부’ 범주형 변수 추가하고 데이터 분포를 확인하라. (월 ~ 금은 평일, 토요일과 일요일을 주말)"
   ]
  },
  {
   "cell_type": "code",
   "execution_count": null,
   "id": "8d227702",
   "metadata": {},
   "outputs": [],
   "source": [
    "# 4-2 ‘피해자신체상해정도’에 따라 각 독립변수들이 유의한지 통계적 검정하라"
   ]
  },
  {
   "cell_type": "code",
   "execution_count": null,
   "id": "f00af7e7",
   "metadata": {},
   "outputs": [],
   "source": [
    "# 4-3 4-2 에서 유의한 변수들만을 가지고 ‘피해자신체상해정도’를 기준으로 SMOTE 오버샘플링을 수행하고 샘플링 데이터와 기존데이터를 합친 전체 데이터에 대해 범주형변수는 변수별 빈도를 나타내고 연속형이면 평균을 나타내시오"
   ]
  },
  {
   "cell_type": "code",
   "execution_count": null,
   "id": "44699052",
   "metadata": {},
   "outputs": [],
   "source": [
    "# 4-4 4-3 데이터를 가지고 ‘피해자신체상해정도’ 을 종속변수로 하여 로지스틱회귀분석, XGB 분류 분류 모델을 만들고 성능 비교를 하고 영향력 있는 변수를 확인하라"
   ]
  },
  {
   "cell_type": "code",
   "execution_count": null,
   "id": "a1493cd9",
   "metadata": {},
   "outputs": [],
   "source": [
    "'''\n",
    "5\n",
    "3개의 공장에서 생산한 제품을 3지역으로 가능한 조건에 맞게 최대로 배송한다.\n",
    "각 공장과 각 지역 사이의 1개 제품 배송 비용이 아래와 같을 때, 최소 배송 비용은 얼마인가?\n",
    "'''\n",
    "import pandas as pd\n",
    "\n",
    "raw_df = pd.DataFrame(\n",
    "    [\n",
    "        [20, 5, 35, 75],\n",
    "        [15, 2, 20, 55],\n",
    "        [3, 14, 17, 60],\n",
    "        [80, 50, 60, None],\n",
    "    ],\n",
    "    index=['공장A', '공장B', '공장C', '총 수요량'],\n",
    "    columns=['지역1', '지역2', '지역3', '총 생산량'],\n",
    ")\n",
    "raw_df.head()"
   ]
  },
  {
   "cell_type": "code",
   "execution_count": null,
   "id": "de53da95",
   "metadata": {},
   "outputs": [],
   "source": [
    "'''\n",
    "6\n",
    "    데이터 링크 : ./../data/adp/30/p6.csv\n",
    "    데이터 설명 : 3개 연령층 (청년 장년 노년)의 A 헤드셋의 선호도 (1,2,3/ 범주형) 설문조사\n",
    "'''\n",
    "import pandas as pd\n",
    "\n",
    "raw_df = pd.read_csv(get_dataset_url('\1'))
\n",
    "raw_df.head()"
   ]
  },
  {
   "cell_type": "code",
   "execution_count": null,
   "id": "51daab57",
   "metadata": {},
   "outputs": [],
   "source": [
    "# 6-1 연령대별로 헤드셋 선호도에 차이가 있는지를 검정하기 위한 귀무가설과 연구가설을 설정해라"
   ]
  },
  {
   "cell_type": "code",
   "execution_count": null,
   "id": "96525301",
   "metadata": {},
   "outputs": [],
   "source": [
    "# 6-2 유의수준 하에서 통계 검정해라"
   ]
  },
  {
   "cell_type": "code",
   "execution_count": null,
   "id": "270f0ed8",
   "metadata": {},
   "outputs": [],
   "source": [
    "# 7-1 아이를 6명 가진 가정이 5 가족이고, 아들/딸을 출생할 확률은 0.5이다. 딸이 4명 이상인 가구가 3 가족 이상일 확률을 구하라"
   ]
  },
  {
   "cell_type": "code",
   "execution_count": null,
   "id": "3feb1d51",
   "metadata": {},
   "outputs": [],
   "source": [
    "# 7-2 5가족 중 몇 가족이 4명 이상 딸을 가질 것으로 기대할 수 있는가?"
   ]
  }
 ],
 "metadata": {
  "language_info": {
   "name": "python"
  }
 },
 "nbformat": 4,
 "nbformat_minor": 5
}
