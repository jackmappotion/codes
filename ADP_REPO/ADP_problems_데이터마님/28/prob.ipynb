{
 "cells": [
  {
   "cell_type": "code",
   "execution_count": null,
   "id": "68c6d0c2",
   "metadata": {},
   "outputs": [
    {
     "data": {
      "text/html": [
       "<div>\n",
       "<style scoped>\n",
       "    .dataframe tbody tr th:only-of-type {\n",
       "        vertical-align: middle;\n",
       "    }\n",
       "\n",
       "    .dataframe tbody tr th {\n",
       "        vertical-align: top;\n",
       "    }\n",
       "\n",
       "    .dataframe thead th {\n",
       "        text-align: right;\n",
       "    }\n",
       "</style>\n",
       "<table border=\"1\" class=\"dataframe\">\n",
       "  <thead>\n",
       "    <tr style=\"text-align: right;\">\n",
       "      <th></th>\n",
       "      <th>sex</th>\n",
       "      <th>age</th>\n",
       "      <th>pstatus</th>\n",
       "      <th>medu</th>\n",
       "      <th>fedu</th>\n",
       "      <th>guardian</th>\n",
       "      <th>traveltime</th>\n",
       "      <th>studytime</th>\n",
       "      <th>failures</th>\n",
       "      <th>freetime</th>\n",
       "      <th>famrel</th>\n",
       "      <th>absences</th>\n",
       "    </tr>\n",
       "  </thead>\n",
       "  <tbody>\n",
       "    <tr>\n",
       "      <th>0</th>\n",
       "      <td>F</td>\n",
       "      <td>18</td>\n",
       "      <td>A</td>\n",
       "      <td>4</td>\n",
       "      <td>4</td>\n",
       "      <td>mother</td>\n",
       "      <td>2</td>\n",
       "      <td>2</td>\n",
       "      <td>0</td>\n",
       "      <td>3</td>\n",
       "      <td>4</td>\n",
       "      <td>2</td>\n",
       "    </tr>\n",
       "    <tr>\n",
       "      <th>1</th>\n",
       "      <td>F</td>\n",
       "      <td>17</td>\n",
       "      <td>T</td>\n",
       "      <td>1</td>\n",
       "      <td>1</td>\n",
       "      <td>father</td>\n",
       "      <td>1</td>\n",
       "      <td>2</td>\n",
       "      <td>0</td>\n",
       "      <td>3</td>\n",
       "      <td>5</td>\n",
       "      <td>1</td>\n",
       "    </tr>\n",
       "    <tr>\n",
       "      <th>2</th>\n",
       "      <td>F</td>\n",
       "      <td>15</td>\n",
       "      <td>T</td>\n",
       "      <td>1</td>\n",
       "      <td>1</td>\n",
       "      <td>mother</td>\n",
       "      <td>1</td>\n",
       "      <td>2</td>\n",
       "      <td>3</td>\n",
       "      <td>3</td>\n",
       "      <td>4</td>\n",
       "      <td>3</td>\n",
       "    </tr>\n",
       "    <tr>\n",
       "      <th>3</th>\n",
       "      <td>F</td>\n",
       "      <td>15</td>\n",
       "      <td>T</td>\n",
       "      <td>4</td>\n",
       "      <td>2</td>\n",
       "      <td>mother</td>\n",
       "      <td>1</td>\n",
       "      <td>3</td>\n",
       "      <td>0</td>\n",
       "      <td>2</td>\n",
       "      <td>3</td>\n",
       "      <td>0</td>\n",
       "    </tr>\n",
       "    <tr>\n",
       "      <th>4</th>\n",
       "      <td>F</td>\n",
       "      <td>16</td>\n",
       "      <td>T</td>\n",
       "      <td>3</td>\n",
       "      <td>3</td>\n",
       "      <td>father</td>\n",
       "      <td>1</td>\n",
       "      <td>2</td>\n",
       "      <td>0</td>\n",
       "      <td>3</td>\n",
       "      <td>4</td>\n",
       "      <td>1</td>\n",
       "    </tr>\n",
       "  </tbody>\n",
       "</table>\n",
       "</div>"
      ],
      "text/plain": [
       "  sex  age pstatus  medu  fedu guardian  traveltime  studytime  failures  \\\n",
       "0   F   18       A     4     4   mother           2          2         0   \n",
       "1   F   17       T     1     1   father           1          2         0   \n",
       "2   F   15       T     1     1   mother           1          2         3   \n",
       "3   F   15       T     4     2   mother           1          3         0   \n",
       "4   F   16       T     3     3   father           1          2         0   \n",
       "\n",
       "   freetime  famrel  absences  \n",
       "0         3       4         2  \n",
       "1         3       5         1  \n",
       "2         3       4         3  \n",
       "3         2       3         0  \n",
       "4         3       4         1  "
      ]
     },
     "execution_count": 4,
     "metadata": {},
     "output_type": "execute_result"
    }
   ],
   "source": [
    "'''\n",
    "1\n",
    "    데이터 출처 : https://www.kaggle.com/datasets/dipam7/student-grade-prediction?resource=download 후처리\n",
    "    데이터 링크 : ./../data/adp/28/p1.csv\n",
    "    데이터 설명 : 학생의 다양한 주변 환경에 따른 결석 등급 (absences)\n",
    "        sex : 성별 (F : 여성 / M :남성)\n",
    "        age : 나이\n",
    "        pstatus : 부모와 동거 유무 (T : 동거중 , A : 별거)\n",
    "        medu : 어머니 교육(0 - 없음, 1 - 초등 교육(4학년), 2 - 5~9학년, 3 - 중등 교육 또는 4 - 고등 교육)\n",
    "        fedu : 아버지 교육(0 - 없음, 1 - 초등 교육(4학년), 2 - 5 - 9학년, 3 - 중등 교육 또는 4 - 고등 교육)\n",
    "        guardian : 학생의 보호자\n",
    "        traveltime : 집에서 학교까지 이동 시간(1 - <15분, 2 - 15 - 30분, 3 - 30분 - 1시간, 또는 4 - >1시간)\n",
    "        studytime : 주간 학습 시간(1 - <2시간, 2 - 2 - 5시간, 3 - 5 - 10시간 또는 4 - >10시간)\n",
    "        failures : 과거 클래스 실패 수(n if 1<=n<3, 그렇지 않으면 4)\n",
    "        freetime : 방과 후 자유 시간(숫자: 1 - 매우 낮음에서 5 - 매우 높음)\n",
    "        famrel : 가족 관계의 질(숫자: 1 - 매우 나쁨에서 5 - 훌륭함)\n",
    "        absences : 학교 결석 횟수등급 (0~5, 높은 숫자일수록 많은 결석 횟수)\n",
    "'''\n",
    "import os\n",
    "import pandas as pd\n",
    "\n",
    "\n",
    "def get_dataset_url(path):\n",
    "    base_url = 'https://gitlab.com/jackmappotion/datasets/-/raw/main/ADP_datasets/ADP_problems_%EB%8D%B0%EC%9D%B4%ED%84%B0%EB%A7%88%EB%8B%98'\n",
    "    url = os.path.join(base_url, path)\n",
    "    return url\n",
    "\n",
    "\n",
    "raw_df = pd.read_csv(get_dataset_url('data/adp/28/p1.csv'))\n",
    "raw_df.head()"
   ]
  },
  {
   "cell_type": "code",
   "execution_count": null,
   "id": "341ae198",
   "metadata": {},
   "outputs": [],
   "source": [
    "# 1-1 EDA를 진행하고 (+시각화) , 차원축소의 필요성이 있는지 확인 (5점)"
   ]
  },
  {
   "cell_type": "code",
   "execution_count": null,
   "id": "38056c84",
   "metadata": {},
   "outputs": [],
   "source": [
    "# 1-2 데이터 품질 개선을 위한 방법이 있는지 찾고 데이터셋을 재생성하라 (5점)"
   ]
  },
  {
   "cell_type": "code",
   "execution_count": null,
   "id": "1e84d757",
   "metadata": {},
   "outputs": [],
   "source": [
    "# 1-3 1.2에서 제시한 방법이 데이터 과적합이 된다는 가정하에 어떻게 해결할 수 있을지 2가지 개선안 제시, 각방법들의 장단점 기술 (10점)"
   ]
  },
  {
   "cell_type": "code",
   "execution_count": null,
   "id": "c79c5c89",
   "metadata": {},
   "outputs": [],
   "source": [
    "# 2-1 \n",
    "# 1-2 데이터셋을 기준으로 random forest, neural network , lightgbm 3가지 방식으로 학교 결석 횟수등급을 예측하는 모델을 만들어라, \n",
    "# f1 score로 모델을 평가하라 (5점)"
   ]
  },
  {
   "cell_type": "code",
   "execution_count": null,
   "id": "69ff2b8b",
   "metadata": {},
   "outputs": [],
   "source": [
    "# 2-2 hard voting, soft voting에 대한 장단점을 설명하고 2-1의 3가지 모델로 구현하라. 두 방식의 f1-score를 비교하라 (10점)"
   ]
  },
  {
   "cell_type": "code",
   "execution_count": null,
   "id": "ac76bb1c",
   "metadata": {},
   "outputs": [],
   "source": [
    "# 2-3 총 5개 모델(RF, NN, LGBM, 하드보팅, 소프트보팅) 중 실시간 온라인 시스템에 가장 적합한 모델과 선정이유를 객관적으로 제시하라 (5점)"
   ]
  },
  {
   "cell_type": "code",
   "execution_count": null,
   "id": "25164bcb",
   "metadata": {},
   "outputs": [],
   "source": [
    "# 3-1 적정 모델과 선정 및 모델링 과정에서 추가적으로 고려해볼 만한 사항은? (5점)"
   ]
  },
  {
   "cell_type": "code",
   "execution_count": null,
   "id": "a530eb1f",
   "metadata": {},
   "outputs": [],
   "source": [
    "# 3-2 모델을 학교 시스템에 적용하여 활용하려한다. 모델 적용 및 운영과정에서 고려해볼 만한 사항? (5점)"
   ]
  },
  {
   "cell_type": "code",
   "execution_count": 5,
   "id": "85042746",
   "metadata": {},
   "outputs": [
    {
     "data": {
      "text/html": [
       "<div>\n",
       "<style scoped>\n",
       "    .dataframe tbody tr th:only-of-type {\n",
       "        vertical-align: middle;\n",
       "    }\n",
       "\n",
       "    .dataframe tbody tr th {\n",
       "        vertical-align: top;\n",
       "    }\n",
       "\n",
       "    .dataframe thead th {\n",
       "        text-align: right;\n",
       "    }\n",
       "</style>\n",
       "<table border=\"1\" class=\"dataframe\">\n",
       "  <thead>\n",
       "    <tr style=\"text-align: right;\">\n",
       "      <th></th>\n",
       "      <th>time(month)</th>\n",
       "      <th>status</th>\n",
       "      <th>company</th>\n",
       "    </tr>\n",
       "  </thead>\n",
       "  <tbody>\n",
       "    <tr>\n",
       "      <th>0</th>\n",
       "      <td>1</td>\n",
       "      <td>event lost</td>\n",
       "      <td>X</td>\n",
       "    </tr>\n",
       "    <tr>\n",
       "      <th>1</th>\n",
       "      <td>2</td>\n",
       "      <td>event lost</td>\n",
       "      <td>X</td>\n",
       "    </tr>\n",
       "    <tr>\n",
       "      <th>2</th>\n",
       "      <td>3</td>\n",
       "      <td>event lost</td>\n",
       "      <td>X</td>\n",
       "    </tr>\n",
       "    <tr>\n",
       "      <th>3</th>\n",
       "      <td>4</td>\n",
       "      <td>event lost</td>\n",
       "      <td>X</td>\n",
       "    </tr>\n",
       "    <tr>\n",
       "      <th>4</th>\n",
       "      <td>5</td>\n",
       "      <td>event lost</td>\n",
       "      <td>X</td>\n",
       "    </tr>\n",
       "  </tbody>\n",
       "</table>\n",
       "</div>"
      ],
      "text/plain": [
       "   time(month)      status company\n",
       "0            1  event lost       X\n",
       "1            2  event lost       X\n",
       "2            3  event lost       X\n",
       "3            4  event lost       X\n",
       "4            5  event lost       X"
      ]
     },
     "execution_count": 5,
     "metadata": {},
     "output_type": "execute_result"
    }
   ],
   "source": [
    "'''\n",
    "4\n",
    "    데이터 url : ./../data/adp/28/p4_.csv\n",
    "    status : 생존 여부 (death: 죽음 / event lost: 생존)\n",
    "    company : 회사구분\n",
    "'''\n",
    "raw_df = pd.read_csv(get_dataset_url('data/adp/28/p4_.csv'))\n",
    "raw_df.head()"
   ]
  },
  {
   "cell_type": "code",
   "execution_count": null,
   "id": "b3226e7f",
   "metadata": {},
   "outputs": [],
   "source": [
    "# 4-1 Kaplan Meier 방법 사용 생존분석 수행. 회사부품별 25, 35, 45 개월에서의 생존 확률 (소숫점 3자리 ,5점)"
   ]
  },
  {
   "cell_type": "code",
   "execution_count": null,
   "id": "c49f5188",
   "metadata": {},
   "outputs": [],
   "source": [
    "# 4-2 두 회사간 생존시간 차이를 log-rank 방식으로 검정하시오. 가설설정, 통계량, 귀무가설 기각여부 판단(10점)"
   ]
  },
  {
   "cell_type": "code",
   "execution_count": null,
   "id": "54bae273",
   "metadata": {},
   "outputs": [
    {
     "data": {
      "text/html": [
       "<div>\n",
       "<style scoped>\n",
       "    .dataframe tbody tr th:only-of-type {\n",
       "        vertical-align: middle;\n",
       "    }\n",
       "\n",
       "    .dataframe tbody tr th {\n",
       "        vertical-align: top;\n",
       "    }\n",
       "\n",
       "    .dataframe thead th {\n",
       "        text-align: right;\n",
       "    }\n",
       "</style>\n",
       "<table border=\"1\" class=\"dataframe\">\n",
       "  <thead>\n",
       "    <tr style=\"text-align: right;\">\n",
       "      <th></th>\n",
       "      <th>data</th>\n",
       "      <th>userId</th>\n",
       "    </tr>\n",
       "  </thead>\n",
       "  <tbody>\n",
       "    <tr>\n",
       "      <th>0</th>\n",
       "      <td>시식전_유__시식후_유</td>\n",
       "      <td>user_1</td>\n",
       "    </tr>\n",
       "    <tr>\n",
       "      <th>1</th>\n",
       "      <td>시식전_유__시식후_유</td>\n",
       "      <td>user_2</td>\n",
       "    </tr>\n",
       "    <tr>\n",
       "      <th>2</th>\n",
       "      <td>시식전_유__시식후_유</td>\n",
       "      <td>user_3</td>\n",
       "    </tr>\n",
       "    <tr>\n",
       "      <th>3</th>\n",
       "      <td>시식전_유__시식후_유</td>\n",
       "      <td>user_4</td>\n",
       "    </tr>\n",
       "    <tr>\n",
       "      <th>4</th>\n",
       "      <td>시식전_유__시식후_유</td>\n",
       "      <td>user_5</td>\n",
       "    </tr>\n",
       "  </tbody>\n",
       "</table>\n",
       "</div>"
      ],
      "text/plain": [
       "           data  userId\n",
       "0  시식전_유__시식후_유  user_1\n",
       "1  시식전_유__시식후_유  user_2\n",
       "2  시식전_유__시식후_유  user_3\n",
       "3  시식전_유__시식후_유  user_4\n",
       "4  시식전_유__시식후_유  user_5"
      ]
     },
     "execution_count": 9,
     "metadata": {},
     "output_type": "execute_result"
    }
   ],
   "source": [
    "'''\n",
    "5\n",
    "    데이터 url: ./../data/adp/28/p5_.csv\n",
    "    data형식:\n",
    "        한 유저가 시식 전 물건 구매의사 유,무와 시식 후 구매의사 유,무에 대한 응답을 나타낸 데이터\n",
    "        {시식전} _ {구매의사 유 or 무} __ {시식후} _ {구매의사 유 or 무}\n",
    "'''\n",
    "raw_df = pd.read_csv(get_dataset_url('data/adp/28/p5_.csv'))\n",
    "raw_df.head()"
   ]
  },
  {
   "cell_type": "code",
   "execution_count": null,
   "id": "72e423cf",
   "metadata": {},
   "outputs": [],
   "source": [
    "# 5-1 시식여부가 구매의사에 영향을 주는지 가설을 설정하시오(5점)"
   ]
  },
  {
   "cell_type": "code",
   "execution_count": null,
   "id": "a18f26de",
   "metadata": {},
   "outputs": [],
   "source": [
    "# 5-2 검정하고 결과를 분석하시오(5점)"
   ]
  },
  {
   "cell_type": "code",
   "execution_count": 10,
   "id": "b5fa76e9",
   "metadata": {},
   "outputs": [
    {
     "data": {
      "text/html": [
       "<div>\n",
       "<style scoped>\n",
       "    .dataframe tbody tr th:only-of-type {\n",
       "        vertical-align: middle;\n",
       "    }\n",
       "\n",
       "    .dataframe tbody tr th {\n",
       "        vertical-align: top;\n",
       "    }\n",
       "\n",
       "    .dataframe thead th {\n",
       "        text-align: right;\n",
       "    }\n",
       "</style>\n",
       "<table border=\"1\" class=\"dataframe\">\n",
       "  <thead>\n",
       "    <tr style=\"text-align: right;\">\n",
       "      <th></th>\n",
       "      <th>score</th>\n",
       "      <th>school_name</th>\n",
       "      <th>ID</th>\n",
       "    </tr>\n",
       "  </thead>\n",
       "  <tbody>\n",
       "    <tr>\n",
       "      <th>0</th>\n",
       "      <td>91.0</td>\n",
       "      <td>A</td>\n",
       "      <td>1</td>\n",
       "    </tr>\n",
       "    <tr>\n",
       "      <th>1</th>\n",
       "      <td>NaN</td>\n",
       "      <td>A</td>\n",
       "      <td>2</td>\n",
       "    </tr>\n",
       "    <tr>\n",
       "      <th>2</th>\n",
       "      <td>NaN</td>\n",
       "      <td>A</td>\n",
       "      <td>3</td>\n",
       "    </tr>\n",
       "    <tr>\n",
       "      <th>3</th>\n",
       "      <td>NaN</td>\n",
       "      <td>A</td>\n",
       "      <td>4</td>\n",
       "    </tr>\n",
       "    <tr>\n",
       "      <th>4</th>\n",
       "      <td>NaN</td>\n",
       "      <td>A</td>\n",
       "      <td>5</td>\n",
       "    </tr>\n",
       "  </tbody>\n",
       "</table>\n",
       "</div>"
      ],
      "text/plain": [
       "   score school_name  ID\n",
       "0   91.0           A   1\n",
       "1    NaN           A   2\n",
       "2    NaN           A   3\n",
       "3    NaN           A   4\n",
       "4    NaN           A   5"
      ]
     },
     "execution_count": 10,
     "metadata": {},
     "output_type": "execute_result"
    }
   ],
   "source": [
    "'''\n",
    "6\n",
    "    데이터 url: ./../data/adp/28/p6.csv\n",
    "'''\n",
    "import pandas as pd \n",
    "raw_df = pd.read_csv(get_dataset_url('data/adp/28/p6.csv'))\n",
    "raw_df.head()"
   ]
  },
  {
   "cell_type": "code",
   "execution_count": null,
   "id": "3e533b38",
   "metadata": {},
   "outputs": [],
   "source": [
    "# 6-1 A,B 지역 학생의 점수에 차이가 있는지 가설을 설정하고 정하시오 (10점)"
   ]
  },
  {
   "cell_type": "code",
   "execution_count": null,
   "id": "018d7fe4",
   "metadata": {},
   "outputs": [],
   "source": [
    "'''\n",
    "7\n",
    "    데이터 출처 : https://www.kaggle.com/datasets/hangawqadir/erbil-heart-disease-dataset\n",
    "    데이터 url : ./../data/adp/28/p7.csv\n",
    "    연령, 몸무게,콜레스테롤 수치 데이터\n",
    "'''\n",
    "\n",
    "import pandas as pd\n",
    "raw_df = pd.read_csv(get_dataset_url('data/adp/28/p7.csv'))\n",
    "raw_df.head()"
   ]
  },
  {
   "cell_type": "code",
   "execution_count": null,
   "id": "033ed0f4",
   "metadata": {},
   "outputs": [],
   "source": [
    "# 7-1 몸무게를 제어한다고 생각하고, 나이와 콜레스테롤 상관계수 및 유의확률 구하라(10점)"
   ]
  },
  {
   "cell_type": "code",
   "execution_count": null,
   "id": "849196a0",
   "metadata": {},
   "outputs": [],
   "source": [
    "# 7-2 상관계수를 유의수준 0.05하에서 검정하라 (5점)"
   ]
  }
 ],
 "metadata": {
  "kernelspec": {
   "display_name": "general",
   "language": "python",
   "name": "python3"
  },
  "language_info": {
   "codemirror_mode": {
    "name": "ipython",
    "version": 3
   },
   "file_extension": ".py",
   "mimetype": "text/x-python",
   "name": "python",
   "nbconvert_exporter": "python",
   "pygments_lexer": "ipython3",
   "version": "3.12.9"
  }
 },
 "nbformat": 4,
 "nbformat_minor": 5
}
