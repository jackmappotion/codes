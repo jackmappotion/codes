{
 "cells": [
  {
   "cell_type": "code",
   "execution_count": null,
   "id": "c3fc0a06",
   "metadata": {},
   "outputs": [],
   "source": [
    "'''\n",
    "데이터설명\n",
    "    데이터 출처 : https://www.kaggle.com/datasets/mandysia/obesity-dataset-cleaned-and-data-sinthetic 후처리\n",
    "    데이터 링크 : ./../data/adp/31/adp_31_1_obesity_v2.csv\n",
    "    데이터 설명 : 각 환자의 의료정보이다. NObeyesdad를 종속변수로 하는 분류모델을 만드려고 한다.\n",
    "(종속변수)\n",
    "NObeyesdad: Type of obesity - overweight-level_i, obesity_type_i, obesity_type_ii, obesity_type_iii\n",
    "'''\n",
    "import pandas as pd \n",
    "raw_df = pd.read_csv(\"./../data/adp/31/adp_31_1_obesity_v2.csv\",index_col=0)\n",
    "raw_df.head()"
   ]
  },
  {
   "cell_type": "code",
   "execution_count": null,
   "id": "c81dc8dd",
   "metadata": {},
   "outputs": [],
   "source": [
    "# 1-1 EDA & 결측치 및 이상치를 판단하고 처리하라\n",
    "\n",
    "# 1-2 데이터 전처리 기법 2가지를 설명하고 주어진 데이터에 적용시 어떤 효과가 있는지 설명하라\n",
    "\n",
    "# 1-3 피쳐 엔지니어링을 통해 파생변수 1개를 생성하고 그 이유를 말하라\n",
    "\n",
    "# 2-1 앙상블을 제외한 분류 모델 3가지 구축 및 결과 비교 및 설명하라\n",
    "\n",
    "# 2-2 2-1에서 사용한 모델 중 하나를 골라 그리드 서치를 통해서 파라미터 튜닝 및 분류 모델 성능 평가 (precision ,recall)\n",
    "\n",
    "# 2-3 2-1의 3가지 모델을 soft voting을 이용하여 모델링 한 결과와 2-2과 비교하라\n",
    "\n",
    "# 3-1 하나의 모델을 선정하여 Drop Column Importance 방식으로 각 변수 별로 전체 컬럼을 포함한 모델과의 recall 값의 차이를 계산하고 시각화 하라"
   ]
  },
  {
   "cell_type": "code",
   "execution_count": null,
   "id": "bc689a17",
   "metadata": {},
   "outputs": [],
   "source": [
    "'''\n",
    "데이터 설명\n",
    "    데이터 출처 : 자체제작\n",
    "    데이터 링크 : ./../data/adp/31/adp_31_2_v2.csv\n",
    "    데이터 설명 : 중고등학생 건강검진 데이터\n",
    "'''\n",
    "import pandas as pd\n",
    "raw_df = pd.read_csv(get_dataset_url('\1'))
\n",
    "raw_df.head()"
   ]
  },
  {
   "cell_type": "code",
   "execution_count": null,
   "id": "ddfdb236",
   "metadata": {},
   "outputs": [],
   "source": [
    "# 4-1 아래의 기준으로 전처리를 하여 적정 체중 여부 컬럼을 생성하고 BMI를 5단위로 구분하여 와 적정 체중여부에 대한 빈도 표를 만들어라\n",
    "    # bmi 계산 - Bmi = 몸무게(kg)/(키(m)**2)\n",
    "    \n",
    "    # 만나이 구하기\n",
    "    # 건강검진을 받았던 날을 기준으로 생년월일과 일수 차이가 16년 364일 이하인 경우 만 16세\n",
    "    # 그 이상의 경우 만 17로 분류하라 - 윤년 등은 고려하지 않는다. 햇수로 16년 + 일수로 364일이 기준이다\n",
    "\n",
    "    # 적정 체중 여부 (BMI가 아래 구간에 들어올 경우)\n",
    "    # 17세 남자 : 21.03이상 23.21 미만\n",
    "    # 17세 여자 : 20.03이상 22.39 미만\n",
    "    # 16세 남자 : 21.18이상 23.45 미만\n",
    "    # 16세 여자 : 19.61이상 21.74 미만"
   ]
  },
  {
   "cell_type": "code",
   "execution_count": null,
   "id": "501ef725",
   "metadata": {},
   "outputs": [],
   "source": [
    "# 4-2 4-1에서 구한 적정 체중 여부와 나머지 컬럼(공학여부, 아침식사여부, 일주일운동시간, 채소섭취정도, 수면시간, 성별) 이 독립적인지 통계적으로 확인하라"
   ]
  },
  {
   "cell_type": "code",
   "execution_count": null,
   "id": "f36d9a98",
   "metadata": {},
   "outputs": [],
   "source": [
    "# 4-3 4-2에서 유의한 변수들만 가지고 적정 체중 여부를 예측하는 모델을 구현하고 성능 평가 및 해석을 하라 (로지스틱회귀 ,xgb)\n",
    "# 로지스틱회귀 모델은 오즈비를 구하라 xgb의 경우 각 피쳐중요도를 확인하고 예측에 영향을 가장 미치는 변수를 확인하라"
   ]
  },
  {
   "cell_type": "code",
   "execution_count": null,
   "id": "b7f34e78",
   "metadata": {},
   "outputs": [],
   "source": [
    "# 4-4 4-3 두 모델의 roc-auc 그래프를 하나의 그래프에 겹쳐 그려라"
   ]
  },
  {
   "cell_type": "code",
   "execution_count": null,
   "id": "199efd7a",
   "metadata": {},
   "outputs": [],
   "source": [
    "# 5 평균이 𝜃이고 분산이 100인 정규분포의 사전분포가 100, 256일때 120의 값을 가지는 데이터가 있을 경우 사후평균은?"
   ]
  },
  {
   "cell_type": "code",
   "execution_count": null,
   "id": "0575e56b",
   "metadata": {},
   "outputs": [],
   "source": [
    "'''\n",
    "데이터 설명\n",
    "    데이터 출처 : https://www.kaggle.com/datasets/yasserh/advertising-sales-dataset 후처리\n",
    "    데이터 링크 : ./../data/adp/31/adp_31_5_advertising.csv\n",
    "    데이터 설명 : TV, Radio, Newspaper에 각각 광고비(달러)를 다르게 했을때 매출액 (Sales , 밀리언달러)를 나타내는 데이터\n",
    "\n",
    "    종속변수 : Sales\n",
    "'''\n",
    "import pandas as pd\n",
    "raw_df = pd.read_csv(\"./../data/adp/31/adp_31_5_advertising.csv\")\n",
    "raw_df.head()"
   ]
  },
  {
   "cell_type": "code",
   "execution_count": null,
   "id": "a8d2cbcd",
   "metadata": {},
   "outputs": [],
   "source": [
    "# 6-1 회귀 모델링 후 유의하지 않는변수 파악"
   ]
  },
  {
   "cell_type": "code",
   "execution_count": null,
   "id": "9f1952e7",
   "metadata": {},
   "outputs": [],
   "source": [
    "# 6-2 변수 선택시 먼저 제거 될 변수 및 근거 제시"
   ]
  },
  {
   "cell_type": "code",
   "execution_count": null,
   "id": "aa8f7a2c",
   "metadata": {},
   "outputs": [],
   "source": [
    "# 6-3 VIF를 통한 다중공선성 진단"
   ]
  },
  {
   "cell_type": "code",
   "execution_count": null,
   "id": "ee88866c",
   "metadata": {},
   "outputs": [],
   "source": [
    "\n",
    "'''\n",
    "    데이터 링크 : ./../data/adp/31/adp_31_7.csv\n",
    "    데이터 설명 : A,B,C,D,E 영업사원의 각 계약 성사 유무 (1:계약 , 0:미계약) 를 나타낸 데이터이다. 영업사원의 평균 계약 성사 건수는 같은지 통계 검정하라\n",
    "'''\n",
    "import pandas as pd\n",
    "raw_df = pd.read_csv('./../data/adp/31/adp_31_7.csv', index_col=0)\n",
    "raw_df"
   ]
  },
  {
   "cell_type": "code",
   "execution_count": null,
   "id": "afff659c",
   "metadata": {},
   "outputs": [],
   "source": [
    "# 8 유기견이 하루에 2.2마리 발생한다.\n",
    "\n",
    "# 8-1 한마리도 한 버려질 확률\n",
    "\n",
    "# 8-2 적어도 2마리가 버려질 확률"
   ]
  }
 ],
 "metadata": {
  "language_info": {
   "name": "python"
  }
 },
 "nbformat": 4,
 "nbformat_minor": 5
}
